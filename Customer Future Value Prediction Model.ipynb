{
 "cells": [
  {
   "cell_type": "markdown",
   "metadata": {},
   "source": [
    "# Customer Churn Prediction Model\n",
    "\n",
    "<u>Data Source:</u><br>\n",
    "https://www.kaggle.com/olistbr/brazilian-ecommerce\n",
    "\n",
    "<u>Notes for Order_Items:</u><br>\n",
    "The `total order_item value` is: `21.33 * 3 = 63.99`<br>\n",
    "The `total freight value` is: `15.10 * 3 = 45.30`<br>\n",
    "The `total order value (product + freight)` is: `45.30 + 63.99 = 109.29`<br>"
   ]
  },
  {
   "cell_type": "code",
   "execution_count": 97,
   "metadata": {
    "ExecuteTime": {
     "end_time": "2020-10-11T00:17:37.989758Z",
     "start_time": "2020-10-11T00:17:37.966821Z"
    }
   },
   "outputs": [],
   "source": [
    "# import libraries\n",
    "import pandas as pd\n",
    "import numpy as np\n",
    "import seaborn as sns\n",
    "import matplotlib.pyplot as plt\n",
    "from sklearn import preprocessing\n",
    "from sklearn.linear_model import LogisticRegression\n",
    "from sklearn.model_selection import train_test_split\n",
    "sns.set(style=\"white\")\n",
    "sns.set(style=\"whitegrid\", color_codes=True)\n",
    "pd.set_option('display.max_rows', None)\n",
    "pd.set_option('display.max_columns', None)"
   ]
  },
  {
   "cell_type": "markdown",
   "metadata": {},
   "source": [
    "# Data Transformation"
   ]
  },
  {
   "cell_type": "code",
   "execution_count": 35,
   "metadata": {
    "ExecuteTime": {
     "end_time": "2020-10-10T18:45:56.435587Z",
     "start_time": "2020-10-10T18:45:55.549808Z"
    }
   },
   "outputs": [],
   "source": [
    "# import the data\n",
    "customers = pd.read_csv('data/olist_customers_dataset.csv')\n",
    "orders = pd.read_csv('data/olist_orders_dataset.csv')\n",
    "orderitems = pd.read_csv('data/olist_order_items_dataset.csv')\n",
    "products = pd.read_csv('data/olist_products_dataset.csv')"
   ]
  },
  {
   "cell_type": "code",
   "execution_count": 36,
   "metadata": {
    "ExecuteTime": {
     "end_time": "2020-10-10T18:45:56.446055Z",
     "start_time": "2020-10-10T18:45:56.435587Z"
    }
   },
   "outputs": [
    {
     "name": "stdout",
     "output_type": "stream",
     "text": [
      "(99441, 5)\n",
      "(99441, 8)\n",
      "(112650, 7)\n",
      "(32951, 9)\n"
     ]
    }
   ],
   "source": [
    "# data size\n",
    "print(customers.shape)\n",
    "print(orders.shape)\n",
    "print(orderitems.shape)\n",
    "print(products.shape)"
   ]
  },
  {
   "cell_type": "code",
   "execution_count": 120,
   "metadata": {
    "ExecuteTime": {
     "end_time": "2020-10-11T01:49:11.225214Z",
     "start_time": "2020-10-11T01:49:11.215241Z"
    }
   },
   "outputs": [
    {
     "data": {
      "text/plain": [
       "customer_id                 object\n",
       "customer_unique_id          object\n",
       "customer_zip_code_prefix     int64\n",
       "customer_city               object\n",
       "customer_state              object\n",
       "dtype: object"
      ]
     },
     "execution_count": 120,
     "metadata": {},
     "output_type": "execute_result"
    }
   ],
   "source": [
    "# check dtypes\n",
    "customers.dtypes"
   ]
  },
  {
   "cell_type": "code",
   "execution_count": 121,
   "metadata": {
    "ExecuteTime": {
     "end_time": "2020-10-11T01:49:35.812188Z",
     "start_time": "2020-10-11T01:49:35.793239Z"
    }
   },
   "outputs": [],
   "source": [
    "customers['customer_zip_code_prefix']=customers['customer_zip_code_prefix'].astype('object')"
   ]
  },
  {
   "cell_type": "code",
   "execution_count": 122,
   "metadata": {
    "ExecuteTime": {
     "end_time": "2020-10-11T01:49:46.632286Z",
     "start_time": "2020-10-11T01:49:46.623312Z"
    }
   },
   "outputs": [
    {
     "data": {
      "text/plain": [
       "order_id                         object\n",
       "customer_id                      object\n",
       "order_status                     object\n",
       "order_purchase_timestamp         object\n",
       "order_approved_at                object\n",
       "order_delivered_carrier_date     object\n",
       "order_delivered_customer_date    object\n",
       "order_estimated_delivery_date    object\n",
       "dtype: object"
      ]
     },
     "execution_count": 122,
     "metadata": {},
     "output_type": "execute_result"
    }
   ],
   "source": [
    "# check dtypes\n",
    "orders.dtypes"
   ]
  },
  {
   "cell_type": "code",
   "execution_count": 123,
   "metadata": {
    "ExecuteTime": {
     "end_time": "2020-10-11T01:50:26.346408Z",
     "start_time": "2020-10-11T01:50:25.949083Z"
    }
   },
   "outputs": [],
   "source": [
    "# convert date columsn to datetime\n",
    "date_columns=['order_purchase_timestamp','order_approved_at','order_delivered_carrier_date'\\\n",
    "              ,'order_delivered_customer_date','order_estimated_delivery_date']\n",
    "# df['Date']= pd.to_datetime(df['Date'])\n",
    "for col in date_columns:\n",
    "    orders[col]=pd.to_datetime(orders[col])"
   ]
  },
  {
   "cell_type": "code",
   "execution_count": null,
   "metadata": {},
   "outputs": [],
   "source": []
  },
  {
   "cell_type": "code",
   "execution_count": 5,
   "metadata": {
    "ExecuteTime": {
     "end_time": "2020-10-10T15:35:11.030535Z",
     "start_time": "2020-10-10T15:35:11.004604Z"
    }
   },
   "outputs": [
    {
     "data": {
      "text/html": [
       "<div>\n",
       "<style scoped>\n",
       "    .dataframe tbody tr th:only-of-type {\n",
       "        vertical-align: middle;\n",
       "    }\n",
       "\n",
       "    .dataframe tbody tr th {\n",
       "        vertical-align: top;\n",
       "    }\n",
       "\n",
       "    .dataframe thead th {\n",
       "        text-align: right;\n",
       "    }\n",
       "</style>\n",
       "<table border=\"1\" class=\"dataframe\">\n",
       "  <thead>\n",
       "    <tr style=\"text-align: right;\">\n",
       "      <th></th>\n",
       "      <th>customer_id</th>\n",
       "      <th>customer_unique_id</th>\n",
       "      <th>customer_zip_code_prefix</th>\n",
       "      <th>customer_city</th>\n",
       "      <th>customer_state</th>\n",
       "    </tr>\n",
       "  </thead>\n",
       "  <tbody>\n",
       "    <tr>\n",
       "      <th>0</th>\n",
       "      <td>06b8999e2fba1a1fbc88172c00ba8bc7</td>\n",
       "      <td>861eff4711a542e4b93843c6dd7febb0</td>\n",
       "      <td>14409</td>\n",
       "      <td>franca</td>\n",
       "      <td>SP</td>\n",
       "    </tr>\n",
       "    <tr>\n",
       "      <th>1</th>\n",
       "      <td>18955e83d337fd6b2def6b18a428ac77</td>\n",
       "      <td>290c77bc529b7ac935b93aa66c333dc3</td>\n",
       "      <td>9790</td>\n",
       "      <td>sao bernardo do campo</td>\n",
       "      <td>SP</td>\n",
       "    </tr>\n",
       "    <tr>\n",
       "      <th>2</th>\n",
       "      <td>4e7b3e00288586ebd08712fdd0374a03</td>\n",
       "      <td>060e732b5b29e8181a18229c7b0b2b5e</td>\n",
       "      <td>1151</td>\n",
       "      <td>sao paulo</td>\n",
       "      <td>SP</td>\n",
       "    </tr>\n",
       "    <tr>\n",
       "      <th>3</th>\n",
       "      <td>b2b6027bc5c5109e529d4dc6358b12c3</td>\n",
       "      <td>259dac757896d24d7702b9acbbff3f3c</td>\n",
       "      <td>8775</td>\n",
       "      <td>mogi das cruzes</td>\n",
       "      <td>SP</td>\n",
       "    </tr>\n",
       "    <tr>\n",
       "      <th>4</th>\n",
       "      <td>4f2d8ab171c80ec8364f7c12e35b23ad</td>\n",
       "      <td>345ecd01c38d18a9036ed96c73b8d066</td>\n",
       "      <td>13056</td>\n",
       "      <td>campinas</td>\n",
       "      <td>SP</td>\n",
       "    </tr>\n",
       "  </tbody>\n",
       "</table>\n",
       "</div>"
      ],
      "text/plain": [
       "                        customer_id                customer_unique_id  \\\n",
       "0  06b8999e2fba1a1fbc88172c00ba8bc7  861eff4711a542e4b93843c6dd7febb0   \n",
       "1  18955e83d337fd6b2def6b18a428ac77  290c77bc529b7ac935b93aa66c333dc3   \n",
       "2  4e7b3e00288586ebd08712fdd0374a03  060e732b5b29e8181a18229c7b0b2b5e   \n",
       "3  b2b6027bc5c5109e529d4dc6358b12c3  259dac757896d24d7702b9acbbff3f3c   \n",
       "4  4f2d8ab171c80ec8364f7c12e35b23ad  345ecd01c38d18a9036ed96c73b8d066   \n",
       "\n",
       "   customer_zip_code_prefix          customer_city customer_state  \n",
       "0                     14409                 franca             SP  \n",
       "1                      9790  sao bernardo do campo             SP  \n",
       "2                      1151              sao paulo             SP  \n",
       "3                      8775        mogi das cruzes             SP  \n",
       "4                     13056               campinas             SP  "
      ]
     },
     "execution_count": 5,
     "metadata": {},
     "output_type": "execute_result"
    }
   ],
   "source": [
    "# preview customers\n",
    "customers.head()"
   ]
  },
  {
   "cell_type": "code",
   "execution_count": 6,
   "metadata": {
    "ExecuteTime": {
     "end_time": "2020-10-10T15:36:16.303207Z",
     "start_time": "2020-10-10T15:36:16.284258Z"
    }
   },
   "outputs": [
    {
     "data": {
      "text/html": [
       "<div>\n",
       "<style scoped>\n",
       "    .dataframe tbody tr th:only-of-type {\n",
       "        vertical-align: middle;\n",
       "    }\n",
       "\n",
       "    .dataframe tbody tr th {\n",
       "        vertical-align: top;\n",
       "    }\n",
       "\n",
       "    .dataframe thead th {\n",
       "        text-align: right;\n",
       "    }\n",
       "</style>\n",
       "<table border=\"1\" class=\"dataframe\">\n",
       "  <thead>\n",
       "    <tr style=\"text-align: right;\">\n",
       "      <th></th>\n",
       "      <th>order_id</th>\n",
       "      <th>customer_id</th>\n",
       "      <th>order_status</th>\n",
       "      <th>order_purchase_timestamp</th>\n",
       "      <th>order_approved_at</th>\n",
       "      <th>order_delivered_carrier_date</th>\n",
       "      <th>order_delivered_customer_date</th>\n",
       "      <th>order_estimated_delivery_date</th>\n",
       "    </tr>\n",
       "  </thead>\n",
       "  <tbody>\n",
       "    <tr>\n",
       "      <th>0</th>\n",
       "      <td>e481f51cbdc54678b7cc49136f2d6af7</td>\n",
       "      <td>9ef432eb6251297304e76186b10a928d</td>\n",
       "      <td>delivered</td>\n",
       "      <td>2017-10-02 10:56:33</td>\n",
       "      <td>2017-10-02 11:07:15</td>\n",
       "      <td>2017-10-04 19:55:00</td>\n",
       "      <td>2017-10-10 21:25:13</td>\n",
       "      <td>2017-10-18 00:00:00</td>\n",
       "    </tr>\n",
       "    <tr>\n",
       "      <th>1</th>\n",
       "      <td>53cdb2fc8bc7dce0b6741e2150273451</td>\n",
       "      <td>b0830fb4747a6c6d20dea0b8c802d7ef</td>\n",
       "      <td>delivered</td>\n",
       "      <td>2018-07-24 20:41:37</td>\n",
       "      <td>2018-07-26 03:24:27</td>\n",
       "      <td>2018-07-26 14:31:00</td>\n",
       "      <td>2018-08-07 15:27:45</td>\n",
       "      <td>2018-08-13 00:00:00</td>\n",
       "    </tr>\n",
       "    <tr>\n",
       "      <th>2</th>\n",
       "      <td>47770eb9100c2d0c44946d9cf07ec65d</td>\n",
       "      <td>41ce2a54c0b03bf3443c3d931a367089</td>\n",
       "      <td>delivered</td>\n",
       "      <td>2018-08-08 08:38:49</td>\n",
       "      <td>2018-08-08 08:55:23</td>\n",
       "      <td>2018-08-08 13:50:00</td>\n",
       "      <td>2018-08-17 18:06:29</td>\n",
       "      <td>2018-09-04 00:00:00</td>\n",
       "    </tr>\n",
       "    <tr>\n",
       "      <th>3</th>\n",
       "      <td>949d5b44dbf5de918fe9c16f97b45f8a</td>\n",
       "      <td>f88197465ea7920adcdbec7375364d82</td>\n",
       "      <td>delivered</td>\n",
       "      <td>2017-11-18 19:28:06</td>\n",
       "      <td>2017-11-18 19:45:59</td>\n",
       "      <td>2017-11-22 13:39:59</td>\n",
       "      <td>2017-12-02 00:28:42</td>\n",
       "      <td>2017-12-15 00:00:00</td>\n",
       "    </tr>\n",
       "    <tr>\n",
       "      <th>4</th>\n",
       "      <td>ad21c59c0840e6cb83a9ceb5573f8159</td>\n",
       "      <td>8ab97904e6daea8866dbdbc4fb7aad2c</td>\n",
       "      <td>delivered</td>\n",
       "      <td>2018-02-13 21:18:39</td>\n",
       "      <td>2018-02-13 22:20:29</td>\n",
       "      <td>2018-02-14 19:46:34</td>\n",
       "      <td>2018-02-16 18:17:02</td>\n",
       "      <td>2018-02-26 00:00:00</td>\n",
       "    </tr>\n",
       "  </tbody>\n",
       "</table>\n",
       "</div>"
      ],
      "text/plain": [
       "                           order_id                       customer_id  \\\n",
       "0  e481f51cbdc54678b7cc49136f2d6af7  9ef432eb6251297304e76186b10a928d   \n",
       "1  53cdb2fc8bc7dce0b6741e2150273451  b0830fb4747a6c6d20dea0b8c802d7ef   \n",
       "2  47770eb9100c2d0c44946d9cf07ec65d  41ce2a54c0b03bf3443c3d931a367089   \n",
       "3  949d5b44dbf5de918fe9c16f97b45f8a  f88197465ea7920adcdbec7375364d82   \n",
       "4  ad21c59c0840e6cb83a9ceb5573f8159  8ab97904e6daea8866dbdbc4fb7aad2c   \n",
       "\n",
       "  order_status order_purchase_timestamp    order_approved_at  \\\n",
       "0    delivered      2017-10-02 10:56:33  2017-10-02 11:07:15   \n",
       "1    delivered      2018-07-24 20:41:37  2018-07-26 03:24:27   \n",
       "2    delivered      2018-08-08 08:38:49  2018-08-08 08:55:23   \n",
       "3    delivered      2017-11-18 19:28:06  2017-11-18 19:45:59   \n",
       "4    delivered      2018-02-13 21:18:39  2018-02-13 22:20:29   \n",
       "\n",
       "  order_delivered_carrier_date order_delivered_customer_date  \\\n",
       "0          2017-10-04 19:55:00           2017-10-10 21:25:13   \n",
       "1          2018-07-26 14:31:00           2018-08-07 15:27:45   \n",
       "2          2018-08-08 13:50:00           2018-08-17 18:06:29   \n",
       "3          2017-11-22 13:39:59           2017-12-02 00:28:42   \n",
       "4          2018-02-14 19:46:34           2018-02-16 18:17:02   \n",
       "\n",
       "  order_estimated_delivery_date  \n",
       "0           2017-10-18 00:00:00  \n",
       "1           2018-08-13 00:00:00  \n",
       "2           2018-09-04 00:00:00  \n",
       "3           2017-12-15 00:00:00  \n",
       "4           2018-02-26 00:00:00  "
      ]
     },
     "execution_count": 6,
     "metadata": {},
     "output_type": "execute_result"
    }
   ],
   "source": [
    "# preview orders\n",
    "orders.head()"
   ]
  },
  {
   "cell_type": "code",
   "execution_count": 7,
   "metadata": {
    "ExecuteTime": {
     "end_time": "2020-10-10T15:36:16.620358Z",
     "start_time": "2020-10-10T15:36:16.598426Z"
    }
   },
   "outputs": [
    {
     "data": {
      "text/html": [
       "<div>\n",
       "<style scoped>\n",
       "    .dataframe tbody tr th:only-of-type {\n",
       "        vertical-align: middle;\n",
       "    }\n",
       "\n",
       "    .dataframe tbody tr th {\n",
       "        vertical-align: top;\n",
       "    }\n",
       "\n",
       "    .dataframe thead th {\n",
       "        text-align: right;\n",
       "    }\n",
       "</style>\n",
       "<table border=\"1\" class=\"dataframe\">\n",
       "  <thead>\n",
       "    <tr style=\"text-align: right;\">\n",
       "      <th></th>\n",
       "      <th>order_id</th>\n",
       "      <th>order_item_id</th>\n",
       "      <th>product_id</th>\n",
       "      <th>seller_id</th>\n",
       "      <th>shipping_limit_date</th>\n",
       "      <th>price</th>\n",
       "      <th>freight_value</th>\n",
       "    </tr>\n",
       "  </thead>\n",
       "  <tbody>\n",
       "    <tr>\n",
       "      <th>0</th>\n",
       "      <td>00010242fe8c5a6d1ba2dd792cb16214</td>\n",
       "      <td>1</td>\n",
       "      <td>4244733e06e7ecb4970a6e2683c13e61</td>\n",
       "      <td>48436dade18ac8b2bce089ec2a041202</td>\n",
       "      <td>2017-09-19 09:45:35</td>\n",
       "      <td>58.90</td>\n",
       "      <td>13.29</td>\n",
       "    </tr>\n",
       "    <tr>\n",
       "      <th>1</th>\n",
       "      <td>00018f77f2f0320c557190d7a144bdd3</td>\n",
       "      <td>1</td>\n",
       "      <td>e5f2d52b802189ee658865ca93d83a8f</td>\n",
       "      <td>dd7ddc04e1b6c2c614352b383efe2d36</td>\n",
       "      <td>2017-05-03 11:05:13</td>\n",
       "      <td>239.90</td>\n",
       "      <td>19.93</td>\n",
       "    </tr>\n",
       "    <tr>\n",
       "      <th>2</th>\n",
       "      <td>000229ec398224ef6ca0657da4fc703e</td>\n",
       "      <td>1</td>\n",
       "      <td>c777355d18b72b67abbeef9df44fd0fd</td>\n",
       "      <td>5b51032eddd242adc84c38acab88f23d</td>\n",
       "      <td>2018-01-18 14:48:30</td>\n",
       "      <td>199.00</td>\n",
       "      <td>17.87</td>\n",
       "    </tr>\n",
       "    <tr>\n",
       "      <th>3</th>\n",
       "      <td>00024acbcdf0a6daa1e931b038114c75</td>\n",
       "      <td>1</td>\n",
       "      <td>7634da152a4610f1595efa32f14722fc</td>\n",
       "      <td>9d7a1d34a5052409006425275ba1c2b4</td>\n",
       "      <td>2018-08-15 10:10:18</td>\n",
       "      <td>12.99</td>\n",
       "      <td>12.79</td>\n",
       "    </tr>\n",
       "    <tr>\n",
       "      <th>4</th>\n",
       "      <td>00042b26cf59d7ce69dfabb4e55b4fd9</td>\n",
       "      <td>1</td>\n",
       "      <td>ac6c3623068f30de03045865e4e10089</td>\n",
       "      <td>df560393f3a51e74553ab94004ba5c87</td>\n",
       "      <td>2017-02-13 13:57:51</td>\n",
       "      <td>199.90</td>\n",
       "      <td>18.14</td>\n",
       "    </tr>\n",
       "  </tbody>\n",
       "</table>\n",
       "</div>"
      ],
      "text/plain": [
       "                           order_id  order_item_id  \\\n",
       "0  00010242fe8c5a6d1ba2dd792cb16214              1   \n",
       "1  00018f77f2f0320c557190d7a144bdd3              1   \n",
       "2  000229ec398224ef6ca0657da4fc703e              1   \n",
       "3  00024acbcdf0a6daa1e931b038114c75              1   \n",
       "4  00042b26cf59d7ce69dfabb4e55b4fd9              1   \n",
       "\n",
       "                         product_id                         seller_id  \\\n",
       "0  4244733e06e7ecb4970a6e2683c13e61  48436dade18ac8b2bce089ec2a041202   \n",
       "1  e5f2d52b802189ee658865ca93d83a8f  dd7ddc04e1b6c2c614352b383efe2d36   \n",
       "2  c777355d18b72b67abbeef9df44fd0fd  5b51032eddd242adc84c38acab88f23d   \n",
       "3  7634da152a4610f1595efa32f14722fc  9d7a1d34a5052409006425275ba1c2b4   \n",
       "4  ac6c3623068f30de03045865e4e10089  df560393f3a51e74553ab94004ba5c87   \n",
       "\n",
       "   shipping_limit_date   price  freight_value  \n",
       "0  2017-09-19 09:45:35   58.90          13.29  \n",
       "1  2017-05-03 11:05:13  239.90          19.93  \n",
       "2  2018-01-18 14:48:30  199.00          17.87  \n",
       "3  2018-08-15 10:10:18   12.99          12.79  \n",
       "4  2017-02-13 13:57:51  199.90          18.14  "
      ]
     },
     "execution_count": 7,
     "metadata": {},
     "output_type": "execute_result"
    }
   ],
   "source": [
    "# preview orderitems\n",
    "orderitems.head()"
   ]
  },
  {
   "cell_type": "code",
   "execution_count": 8,
   "metadata": {
    "ExecuteTime": {
     "end_time": "2020-10-10T15:36:16.983387Z",
     "start_time": "2020-10-10T15:36:16.958454Z"
    }
   },
   "outputs": [
    {
     "data": {
      "text/html": [
       "<div>\n",
       "<style scoped>\n",
       "    .dataframe tbody tr th:only-of-type {\n",
       "        vertical-align: middle;\n",
       "    }\n",
       "\n",
       "    .dataframe tbody tr th {\n",
       "        vertical-align: top;\n",
       "    }\n",
       "\n",
       "    .dataframe thead th {\n",
       "        text-align: right;\n",
       "    }\n",
       "</style>\n",
       "<table border=\"1\" class=\"dataframe\">\n",
       "  <thead>\n",
       "    <tr style=\"text-align: right;\">\n",
       "      <th></th>\n",
       "      <th>product_id</th>\n",
       "      <th>product_category_name</th>\n",
       "      <th>product_name_lenght</th>\n",
       "      <th>product_description_lenght</th>\n",
       "      <th>product_photos_qty</th>\n",
       "      <th>product_weight_g</th>\n",
       "      <th>product_length_cm</th>\n",
       "      <th>product_height_cm</th>\n",
       "      <th>product_width_cm</th>\n",
       "    </tr>\n",
       "  </thead>\n",
       "  <tbody>\n",
       "    <tr>\n",
       "      <th>0</th>\n",
       "      <td>1e9e8ef04dbcff4541ed26657ea517e5</td>\n",
       "      <td>perfumaria</td>\n",
       "      <td>40.0</td>\n",
       "      <td>287.0</td>\n",
       "      <td>1.0</td>\n",
       "      <td>225.0</td>\n",
       "      <td>16.0</td>\n",
       "      <td>10.0</td>\n",
       "      <td>14.0</td>\n",
       "    </tr>\n",
       "    <tr>\n",
       "      <th>1</th>\n",
       "      <td>3aa071139cb16b67ca9e5dea641aaa2f</td>\n",
       "      <td>artes</td>\n",
       "      <td>44.0</td>\n",
       "      <td>276.0</td>\n",
       "      <td>1.0</td>\n",
       "      <td>1000.0</td>\n",
       "      <td>30.0</td>\n",
       "      <td>18.0</td>\n",
       "      <td>20.0</td>\n",
       "    </tr>\n",
       "    <tr>\n",
       "      <th>2</th>\n",
       "      <td>96bd76ec8810374ed1b65e291975717f</td>\n",
       "      <td>esporte_lazer</td>\n",
       "      <td>46.0</td>\n",
       "      <td>250.0</td>\n",
       "      <td>1.0</td>\n",
       "      <td>154.0</td>\n",
       "      <td>18.0</td>\n",
       "      <td>9.0</td>\n",
       "      <td>15.0</td>\n",
       "    </tr>\n",
       "    <tr>\n",
       "      <th>3</th>\n",
       "      <td>cef67bcfe19066a932b7673e239eb23d</td>\n",
       "      <td>bebes</td>\n",
       "      <td>27.0</td>\n",
       "      <td>261.0</td>\n",
       "      <td>1.0</td>\n",
       "      <td>371.0</td>\n",
       "      <td>26.0</td>\n",
       "      <td>4.0</td>\n",
       "      <td>26.0</td>\n",
       "    </tr>\n",
       "    <tr>\n",
       "      <th>4</th>\n",
       "      <td>9dc1a7de274444849c219cff195d0b71</td>\n",
       "      <td>utilidades_domesticas</td>\n",
       "      <td>37.0</td>\n",
       "      <td>402.0</td>\n",
       "      <td>4.0</td>\n",
       "      <td>625.0</td>\n",
       "      <td>20.0</td>\n",
       "      <td>17.0</td>\n",
       "      <td>13.0</td>\n",
       "    </tr>\n",
       "  </tbody>\n",
       "</table>\n",
       "</div>"
      ],
      "text/plain": [
       "                         product_id  product_category_name  \\\n",
       "0  1e9e8ef04dbcff4541ed26657ea517e5             perfumaria   \n",
       "1  3aa071139cb16b67ca9e5dea641aaa2f                  artes   \n",
       "2  96bd76ec8810374ed1b65e291975717f          esporte_lazer   \n",
       "3  cef67bcfe19066a932b7673e239eb23d                  bebes   \n",
       "4  9dc1a7de274444849c219cff195d0b71  utilidades_domesticas   \n",
       "\n",
       "   product_name_lenght  product_description_lenght  product_photos_qty  \\\n",
       "0                 40.0                       287.0                 1.0   \n",
       "1                 44.0                       276.0                 1.0   \n",
       "2                 46.0                       250.0                 1.0   \n",
       "3                 27.0                       261.0                 1.0   \n",
       "4                 37.0                       402.0                 4.0   \n",
       "\n",
       "   product_weight_g  product_length_cm  product_height_cm  product_width_cm  \n",
       "0             225.0               16.0               10.0              14.0  \n",
       "1            1000.0               30.0               18.0              20.0  \n",
       "2             154.0               18.0                9.0              15.0  \n",
       "3             371.0               26.0                4.0              26.0  \n",
       "4             625.0               20.0               17.0              13.0  "
      ]
     },
     "execution_count": 8,
     "metadata": {},
     "output_type": "execute_result"
    }
   ],
   "source": [
    "# preview products\n",
    "products.head()"
   ]
  },
  {
   "cell_type": "code",
   "execution_count": 124,
   "metadata": {
    "ExecuteTime": {
     "end_time": "2020-10-11T01:50:44.289670Z",
     "start_time": "2020-10-11T01:50:44.227356Z"
    }
   },
   "outputs": [
    {
     "data": {
      "text/plain": [
       "customer_id                 0\n",
       "customer_unique_id          0\n",
       "customer_zip_code_prefix    0\n",
       "customer_city               0\n",
       "customer_state              0\n",
       "dtype: int64"
      ]
     },
     "execution_count": 124,
     "metadata": {},
     "output_type": "execute_result"
    }
   ],
   "source": [
    "# look for nulls\n",
    "customers.isna().sum()"
   ]
  },
  {
   "cell_type": "code",
   "execution_count": 125,
   "metadata": {
    "ExecuteTime": {
     "end_time": "2020-10-11T01:50:44.999700Z",
     "start_time": "2020-10-11T01:50:44.953891Z"
    }
   },
   "outputs": [
    {
     "data": {
      "text/plain": [
       "order_id                            0\n",
       "customer_id                         0\n",
       "order_status                        0\n",
       "order_purchase_timestamp            0\n",
       "order_approved_at                 160\n",
       "order_delivered_carrier_date     1783\n",
       "order_delivered_customer_date    2965\n",
       "order_estimated_delivery_date       0\n",
       "dtype: int64"
      ]
     },
     "execution_count": 125,
     "metadata": {},
     "output_type": "execute_result"
    }
   ],
   "source": [
    "# look for nulls\n",
    "orders.isna().sum()"
   ]
  },
  {
   "cell_type": "markdown",
   "metadata": {},
   "source": [
    "We should remove `order_id`s where the `order_delivered_customer_date` is null assuming it means that these orders were cancelled and never fulfilled."
   ]
  },
  {
   "cell_type": "code",
   "execution_count": 126,
   "metadata": {
    "ExecuteTime": {
     "end_time": "2020-10-11T01:50:48.100581Z",
     "start_time": "2020-10-11T01:50:47.958130Z"
    }
   },
   "outputs": [
    {
     "data": {
      "text/plain": [
       "order_id               0\n",
       "order_item_id          0\n",
       "product_id             0\n",
       "seller_id              0\n",
       "shipping_limit_date    0\n",
       "price                  0\n",
       "freight_value          0\n",
       "dtype: int64"
      ]
     },
     "execution_count": 126,
     "metadata": {},
     "output_type": "execute_result"
    }
   ],
   "source": [
    "# look for nulls\n",
    "orderitems.isna().sum()"
   ]
  },
  {
   "cell_type": "code",
   "execution_count": 127,
   "metadata": {
    "ExecuteTime": {
     "end_time": "2020-10-11T01:50:49.921866Z",
     "start_time": "2020-10-11T01:50:49.869007Z"
    }
   },
   "outputs": [
    {
     "data": {
      "text/plain": [
       "product_id                      0\n",
       "product_category_name           0\n",
       "product_name_lenght           610\n",
       "product_description_lenght    610\n",
       "product_photos_qty            610\n",
       "product_weight_g                2\n",
       "product_length_cm               2\n",
       "product_height_cm               2\n",
       "product_width_cm                2\n",
       "dtype: int64"
      ]
     },
     "execution_count": 127,
     "metadata": {},
     "output_type": "execute_result"
    }
   ],
   "source": [
    "# look for nulls\n",
    "products.isna().sum()"
   ]
  },
  {
   "cell_type": "code",
   "execution_count": 128,
   "metadata": {
    "ExecuteTime": {
     "end_time": "2020-10-11T01:50:55.726165Z",
     "start_time": "2020-10-11T01:50:55.684244Z"
    }
   },
   "outputs": [
    {
     "data": {
      "text/html": [
       "<div>\n",
       "<style scoped>\n",
       "    .dataframe tbody tr th:only-of-type {\n",
       "        vertical-align: middle;\n",
       "    }\n",
       "\n",
       "    .dataframe tbody tr th {\n",
       "        vertical-align: top;\n",
       "    }\n",
       "\n",
       "    .dataframe thead th {\n",
       "        text-align: right;\n",
       "    }\n",
       "</style>\n",
       "<table border=\"1\" class=\"dataframe\">\n",
       "  <thead>\n",
       "    <tr style=\"text-align: right;\">\n",
       "      <th></th>\n",
       "      <th>product_id</th>\n",
       "      <th>product_category_name</th>\n",
       "      <th>product_name_lenght</th>\n",
       "      <th>product_description_lenght</th>\n",
       "      <th>product_photos_qty</th>\n",
       "      <th>product_weight_g</th>\n",
       "      <th>product_length_cm</th>\n",
       "      <th>product_height_cm</th>\n",
       "      <th>product_width_cm</th>\n",
       "    </tr>\n",
       "  </thead>\n",
       "  <tbody>\n",
       "  </tbody>\n",
       "</table>\n",
       "</div>"
      ],
      "text/plain": [
       "Empty DataFrame\n",
       "Columns: [product_id, product_category_name, product_name_lenght, product_description_lenght, product_photos_qty, product_weight_g, product_length_cm, product_height_cm, product_width_cm]\n",
       "Index: []"
      ]
     },
     "execution_count": 128,
     "metadata": {},
     "output_type": "execute_result"
    }
   ],
   "source": [
    "# observe rows with null product_category_name\n",
    "products.query('product_category_name!=product_category_name')"
   ]
  },
  {
   "cell_type": "markdown",
   "metadata": {},
   "source": [
    "Since we only plan to use the `product_category_name` column, let's replace those NaNs with value `Unknown`"
   ]
  },
  {
   "cell_type": "code",
   "execution_count": 129,
   "metadata": {
    "ExecuteTime": {
     "end_time": "2020-10-11T01:51:02.855959Z",
     "start_time": "2020-10-11T01:51:02.840335Z"
    }
   },
   "outputs": [],
   "source": [
    "products['product_category_name']=products['product_category_name'].fillna('Unknown')"
   ]
  },
  {
   "cell_type": "code",
   "execution_count": 130,
   "metadata": {
    "ExecuteTime": {
     "end_time": "2020-10-11T01:51:05.263872Z",
     "start_time": "2020-10-11T01:51:05.236949Z"
    }
   },
   "outputs": [
    {
     "data": {
      "text/html": [
       "<div>\n",
       "<style scoped>\n",
       "    .dataframe tbody tr th:only-of-type {\n",
       "        vertical-align: middle;\n",
       "    }\n",
       "\n",
       "    .dataframe tbody tr th {\n",
       "        vertical-align: top;\n",
       "    }\n",
       "\n",
       "    .dataframe thead th {\n",
       "        text-align: right;\n",
       "    }\n",
       "</style>\n",
       "<table border=\"1\" class=\"dataframe\">\n",
       "  <thead>\n",
       "    <tr style=\"text-align: right;\">\n",
       "      <th></th>\n",
       "      <th>product_id</th>\n",
       "      <th>product_category_name</th>\n",
       "      <th>product_name_lenght</th>\n",
       "      <th>product_description_lenght</th>\n",
       "      <th>product_photos_qty</th>\n",
       "      <th>product_weight_g</th>\n",
       "      <th>product_length_cm</th>\n",
       "      <th>product_height_cm</th>\n",
       "      <th>product_width_cm</th>\n",
       "    </tr>\n",
       "  </thead>\n",
       "  <tbody>\n",
       "  </tbody>\n",
       "</table>\n",
       "</div>"
      ],
      "text/plain": [
       "Empty DataFrame\n",
       "Columns: [product_id, product_category_name, product_name_lenght, product_description_lenght, product_photos_qty, product_weight_g, product_length_cm, product_height_cm, product_width_cm]\n",
       "Index: []"
      ]
     },
     "execution_count": 130,
     "metadata": {},
     "output_type": "execute_result"
    }
   ],
   "source": [
    "# we should expect to see no more results in query below\n",
    "products.query('product_category_name!=product_category_name')"
   ]
  },
  {
   "cell_type": "code",
   "execution_count": null,
   "metadata": {},
   "outputs": [],
   "source": []
  },
  {
   "cell_type": "markdown",
   "metadata": {},
   "source": [
    "## Aggregate the Order_Items table to Order level"
   ]
  },
  {
   "cell_type": "code",
   "execution_count": 132,
   "metadata": {
    "ExecuteTime": {
     "end_time": "2020-10-11T02:50:21.292225Z",
     "start_time": "2020-10-11T02:50:21.100709Z"
    }
   },
   "outputs": [],
   "source": [
    "# create new dataframe at order level with total price and freight_value\n",
    "order_totalvalues=orderitems[['order_id', 'price','freight_value']].groupby('order_id').sum().reset_index()\n",
    "order_numitems=orderitems[['order_id','order_item_id']].groupby('order_id').count().reset_index()"
   ]
  },
  {
   "cell_type": "code",
   "execution_count": 133,
   "metadata": {
    "ExecuteTime": {
     "end_time": "2020-10-11T02:50:21.933664Z",
     "start_time": "2020-10-11T02:50:21.911723Z"
    }
   },
   "outputs": [],
   "source": [
    "# create a new column called order_value = price + freight_value\n",
    "order_totalvalues['order_value']=order_totalvalues['price']+order_totalvalues['freight_value']\n",
    "\n",
    "# create a new column that is the ratio of freight_value to order_value (freight_value/order_value)\n",
    "order_totalvalues['freight_ratio']= order_totalvalues['freight_value']/order_totalvalues['order_value']"
   ]
  },
  {
   "cell_type": "code",
   "execution_count": 134,
   "metadata": {
    "ExecuteTime": {
     "end_time": "2020-10-11T02:50:23.199004Z",
     "start_time": "2020-10-11T02:50:23.087303Z"
    }
   },
   "outputs": [],
   "source": [
    "# merge order_totalvalues and order_numitems\n",
    "orderdetails=pd.merge(order_totalvalues, order_numitems, on='order_id', how='inner')"
   ]
  },
  {
   "cell_type": "code",
   "execution_count": 135,
   "metadata": {
    "ExecuteTime": {
     "end_time": "2020-10-11T02:50:24.067127Z",
     "start_time": "2020-10-11T02:50:24.048177Z"
    }
   },
   "outputs": [
    {
     "data": {
      "text/html": [
       "<div>\n",
       "<style scoped>\n",
       "    .dataframe tbody tr th:only-of-type {\n",
       "        vertical-align: middle;\n",
       "    }\n",
       "\n",
       "    .dataframe tbody tr th {\n",
       "        vertical-align: top;\n",
       "    }\n",
       "\n",
       "    .dataframe thead th {\n",
       "        text-align: right;\n",
       "    }\n",
       "</style>\n",
       "<table border=\"1\" class=\"dataframe\">\n",
       "  <thead>\n",
       "    <tr style=\"text-align: right;\">\n",
       "      <th></th>\n",
       "      <th>order_id</th>\n",
       "      <th>price</th>\n",
       "      <th>freight_value</th>\n",
       "      <th>order_value</th>\n",
       "      <th>freight_ratio</th>\n",
       "      <th>order_item_id</th>\n",
       "    </tr>\n",
       "  </thead>\n",
       "  <tbody>\n",
       "    <tr>\n",
       "      <th>0</th>\n",
       "      <td>00010242fe8c5a6d1ba2dd792cb16214</td>\n",
       "      <td>58.90</td>\n",
       "      <td>13.29</td>\n",
       "      <td>72.19</td>\n",
       "      <td>0.184098</td>\n",
       "      <td>1</td>\n",
       "    </tr>\n",
       "    <tr>\n",
       "      <th>1</th>\n",
       "      <td>00018f77f2f0320c557190d7a144bdd3</td>\n",
       "      <td>239.90</td>\n",
       "      <td>19.93</td>\n",
       "      <td>259.83</td>\n",
       "      <td>0.076704</td>\n",
       "      <td>1</td>\n",
       "    </tr>\n",
       "    <tr>\n",
       "      <th>2</th>\n",
       "      <td>000229ec398224ef6ca0657da4fc703e</td>\n",
       "      <td>199.00</td>\n",
       "      <td>17.87</td>\n",
       "      <td>216.87</td>\n",
       "      <td>0.082400</td>\n",
       "      <td>1</td>\n",
       "    </tr>\n",
       "    <tr>\n",
       "      <th>3</th>\n",
       "      <td>00024acbcdf0a6daa1e931b038114c75</td>\n",
       "      <td>12.99</td>\n",
       "      <td>12.79</td>\n",
       "      <td>25.78</td>\n",
       "      <td>0.496121</td>\n",
       "      <td>1</td>\n",
       "    </tr>\n",
       "    <tr>\n",
       "      <th>4</th>\n",
       "      <td>00042b26cf59d7ce69dfabb4e55b4fd9</td>\n",
       "      <td>199.90</td>\n",
       "      <td>18.14</td>\n",
       "      <td>218.04</td>\n",
       "      <td>0.083196</td>\n",
       "      <td>1</td>\n",
       "    </tr>\n",
       "  </tbody>\n",
       "</table>\n",
       "</div>"
      ],
      "text/plain": [
       "                           order_id   price  freight_value  order_value  \\\n",
       "0  00010242fe8c5a6d1ba2dd792cb16214   58.90          13.29        72.19   \n",
       "1  00018f77f2f0320c557190d7a144bdd3  239.90          19.93       259.83   \n",
       "2  000229ec398224ef6ca0657da4fc703e  199.00          17.87       216.87   \n",
       "3  00024acbcdf0a6daa1e931b038114c75   12.99          12.79        25.78   \n",
       "4  00042b26cf59d7ce69dfabb4e55b4fd9  199.90          18.14       218.04   \n",
       "\n",
       "   freight_ratio  order_item_id  \n",
       "0       0.184098              1  \n",
       "1       0.076704              1  \n",
       "2       0.082400              1  \n",
       "3       0.496121              1  \n",
       "4       0.083196              1  "
      ]
     },
     "execution_count": 135,
     "metadata": {},
     "output_type": "execute_result"
    }
   ],
   "source": [
    "orderdetails.head()"
   ]
  },
  {
   "cell_type": "code",
   "execution_count": 136,
   "metadata": {
    "ExecuteTime": {
     "end_time": "2020-10-11T02:50:30.424593Z",
     "start_time": "2020-10-11T02:50:30.241524Z"
    }
   },
   "outputs": [
    {
     "data": {
      "text/html": [
       "<div>\n",
       "<style scoped>\n",
       "    .dataframe tbody tr th:only-of-type {\n",
       "        vertical-align: middle;\n",
       "    }\n",
       "\n",
       "    .dataframe tbody tr th {\n",
       "        vertical-align: top;\n",
       "    }\n",
       "\n",
       "    .dataframe thead th {\n",
       "        text-align: right;\n",
       "    }\n",
       "</style>\n",
       "<table border=\"1\" class=\"dataframe\">\n",
       "  <thead>\n",
       "    <tr style=\"text-align: right;\">\n",
       "      <th></th>\n",
       "      <th>order_id</th>\n",
       "      <th>price</th>\n",
       "      <th>freight_value</th>\n",
       "      <th>order_value</th>\n",
       "      <th>freight_ratio</th>\n",
       "      <th>num_items</th>\n",
       "    </tr>\n",
       "  </thead>\n",
       "  <tbody>\n",
       "    <tr>\n",
       "      <th>0</th>\n",
       "      <td>00010242fe8c5a6d1ba2dd792cb16214</td>\n",
       "      <td>58.90</td>\n",
       "      <td>13.29</td>\n",
       "      <td>72.19</td>\n",
       "      <td>0.184098</td>\n",
       "      <td>1</td>\n",
       "    </tr>\n",
       "    <tr>\n",
       "      <th>1</th>\n",
       "      <td>00018f77f2f0320c557190d7a144bdd3</td>\n",
       "      <td>239.90</td>\n",
       "      <td>19.93</td>\n",
       "      <td>259.83</td>\n",
       "      <td>0.076704</td>\n",
       "      <td>1</td>\n",
       "    </tr>\n",
       "    <tr>\n",
       "      <th>2</th>\n",
       "      <td>000229ec398224ef6ca0657da4fc703e</td>\n",
       "      <td>199.00</td>\n",
       "      <td>17.87</td>\n",
       "      <td>216.87</td>\n",
       "      <td>0.082400</td>\n",
       "      <td>1</td>\n",
       "    </tr>\n",
       "    <tr>\n",
       "      <th>3</th>\n",
       "      <td>00024acbcdf0a6daa1e931b038114c75</td>\n",
       "      <td>12.99</td>\n",
       "      <td>12.79</td>\n",
       "      <td>25.78</td>\n",
       "      <td>0.496121</td>\n",
       "      <td>1</td>\n",
       "    </tr>\n",
       "    <tr>\n",
       "      <th>4</th>\n",
       "      <td>00042b26cf59d7ce69dfabb4e55b4fd9</td>\n",
       "      <td>199.90</td>\n",
       "      <td>18.14</td>\n",
       "      <td>218.04</td>\n",
       "      <td>0.083196</td>\n",
       "      <td>1</td>\n",
       "    </tr>\n",
       "  </tbody>\n",
       "</table>\n",
       "</div>"
      ],
      "text/plain": [
       "                           order_id   price  freight_value  order_value  \\\n",
       "0  00010242fe8c5a6d1ba2dd792cb16214   58.90          13.29        72.19   \n",
       "1  00018f77f2f0320c557190d7a144bdd3  239.90          19.93       259.83   \n",
       "2  000229ec398224ef6ca0657da4fc703e  199.00          17.87       216.87   \n",
       "3  00024acbcdf0a6daa1e931b038114c75   12.99          12.79        25.78   \n",
       "4  00042b26cf59d7ce69dfabb4e55b4fd9  199.90          18.14       218.04   \n",
       "\n",
       "   freight_ratio  num_items  \n",
       "0       0.184098          1  \n",
       "1       0.076704          1  \n",
       "2       0.082400          1  \n",
       "3       0.496121          1  \n",
       "4       0.083196          1  "
      ]
     },
     "execution_count": 136,
     "metadata": {},
     "output_type": "execute_result"
    }
   ],
   "source": [
    "# view the final ordervalues dataframe\n",
    "orderdetails.rename(columns={'order_item_id':'num_items'},inplace=True)\n",
    "orderdetails.head()"
   ]
  },
  {
   "cell_type": "code",
   "execution_count": 137,
   "metadata": {
    "ExecuteTime": {
     "end_time": "2020-10-11T02:50:34.763992Z",
     "start_time": "2020-10-11T02:50:34.624367Z"
    }
   },
   "outputs": [],
   "source": [
    "# join the orderdetails dataframe to the orders\n",
    "orders_final=pd.merge(orders, orderdetails, how='inner', on='order_id')"
   ]
  },
  {
   "cell_type": "code",
   "execution_count": 138,
   "metadata": {
    "ExecuteTime": {
     "end_time": "2020-10-11T02:50:36.384167Z",
     "start_time": "2020-10-11T02:50:36.346270Z"
    }
   },
   "outputs": [
    {
     "data": {
      "text/html": [
       "<div>\n",
       "<style scoped>\n",
       "    .dataframe tbody tr th:only-of-type {\n",
       "        vertical-align: middle;\n",
       "    }\n",
       "\n",
       "    .dataframe tbody tr th {\n",
       "        vertical-align: top;\n",
       "    }\n",
       "\n",
       "    .dataframe thead th {\n",
       "        text-align: right;\n",
       "    }\n",
       "</style>\n",
       "<table border=\"1\" class=\"dataframe\">\n",
       "  <thead>\n",
       "    <tr style=\"text-align: right;\">\n",
       "      <th></th>\n",
       "      <th>order_id</th>\n",
       "      <th>customer_id</th>\n",
       "      <th>order_status</th>\n",
       "      <th>order_purchase_timestamp</th>\n",
       "      <th>order_approved_at</th>\n",
       "      <th>order_delivered_carrier_date</th>\n",
       "      <th>order_delivered_customer_date</th>\n",
       "      <th>order_estimated_delivery_date</th>\n",
       "      <th>price</th>\n",
       "      <th>freight_value</th>\n",
       "      <th>order_value</th>\n",
       "      <th>freight_ratio</th>\n",
       "      <th>num_items</th>\n",
       "    </tr>\n",
       "  </thead>\n",
       "  <tbody>\n",
       "    <tr>\n",
       "      <th>0</th>\n",
       "      <td>e481f51cbdc54678b7cc49136f2d6af7</td>\n",
       "      <td>9ef432eb6251297304e76186b10a928d</td>\n",
       "      <td>delivered</td>\n",
       "      <td>2017-10-02 10:56:33</td>\n",
       "      <td>2017-10-02 11:07:15</td>\n",
       "      <td>2017-10-04 19:55:00</td>\n",
       "      <td>2017-10-10 21:25:13</td>\n",
       "      <td>2017-10-18</td>\n",
       "      <td>29.99</td>\n",
       "      <td>8.72</td>\n",
       "      <td>38.71</td>\n",
       "      <td>0.225265</td>\n",
       "      <td>1</td>\n",
       "    </tr>\n",
       "    <tr>\n",
       "      <th>1</th>\n",
       "      <td>53cdb2fc8bc7dce0b6741e2150273451</td>\n",
       "      <td>b0830fb4747a6c6d20dea0b8c802d7ef</td>\n",
       "      <td>delivered</td>\n",
       "      <td>2018-07-24 20:41:37</td>\n",
       "      <td>2018-07-26 03:24:27</td>\n",
       "      <td>2018-07-26 14:31:00</td>\n",
       "      <td>2018-08-07 15:27:45</td>\n",
       "      <td>2018-08-13</td>\n",
       "      <td>118.70</td>\n",
       "      <td>22.76</td>\n",
       "      <td>141.46</td>\n",
       "      <td>0.160894</td>\n",
       "      <td>1</td>\n",
       "    </tr>\n",
       "    <tr>\n",
       "      <th>2</th>\n",
       "      <td>47770eb9100c2d0c44946d9cf07ec65d</td>\n",
       "      <td>41ce2a54c0b03bf3443c3d931a367089</td>\n",
       "      <td>delivered</td>\n",
       "      <td>2018-08-08 08:38:49</td>\n",
       "      <td>2018-08-08 08:55:23</td>\n",
       "      <td>2018-08-08 13:50:00</td>\n",
       "      <td>2018-08-17 18:06:29</td>\n",
       "      <td>2018-09-04</td>\n",
       "      <td>159.90</td>\n",
       "      <td>19.22</td>\n",
       "      <td>179.12</td>\n",
       "      <td>0.107302</td>\n",
       "      <td>1</td>\n",
       "    </tr>\n",
       "    <tr>\n",
       "      <th>3</th>\n",
       "      <td>949d5b44dbf5de918fe9c16f97b45f8a</td>\n",
       "      <td>f88197465ea7920adcdbec7375364d82</td>\n",
       "      <td>delivered</td>\n",
       "      <td>2017-11-18 19:28:06</td>\n",
       "      <td>2017-11-18 19:45:59</td>\n",
       "      <td>2017-11-22 13:39:59</td>\n",
       "      <td>2017-12-02 00:28:42</td>\n",
       "      <td>2017-12-15</td>\n",
       "      <td>45.00</td>\n",
       "      <td>27.20</td>\n",
       "      <td>72.20</td>\n",
       "      <td>0.376731</td>\n",
       "      <td>1</td>\n",
       "    </tr>\n",
       "    <tr>\n",
       "      <th>4</th>\n",
       "      <td>ad21c59c0840e6cb83a9ceb5573f8159</td>\n",
       "      <td>8ab97904e6daea8866dbdbc4fb7aad2c</td>\n",
       "      <td>delivered</td>\n",
       "      <td>2018-02-13 21:18:39</td>\n",
       "      <td>2018-02-13 22:20:29</td>\n",
       "      <td>2018-02-14 19:46:34</td>\n",
       "      <td>2018-02-16 18:17:02</td>\n",
       "      <td>2018-02-26</td>\n",
       "      <td>19.90</td>\n",
       "      <td>8.72</td>\n",
       "      <td>28.62</td>\n",
       "      <td>0.304682</td>\n",
       "      <td>1</td>\n",
       "    </tr>\n",
       "  </tbody>\n",
       "</table>\n",
       "</div>"
      ],
      "text/plain": [
       "                           order_id                       customer_id  \\\n",
       "0  e481f51cbdc54678b7cc49136f2d6af7  9ef432eb6251297304e76186b10a928d   \n",
       "1  53cdb2fc8bc7dce0b6741e2150273451  b0830fb4747a6c6d20dea0b8c802d7ef   \n",
       "2  47770eb9100c2d0c44946d9cf07ec65d  41ce2a54c0b03bf3443c3d931a367089   \n",
       "3  949d5b44dbf5de918fe9c16f97b45f8a  f88197465ea7920adcdbec7375364d82   \n",
       "4  ad21c59c0840e6cb83a9ceb5573f8159  8ab97904e6daea8866dbdbc4fb7aad2c   \n",
       "\n",
       "  order_status order_purchase_timestamp   order_approved_at  \\\n",
       "0    delivered      2017-10-02 10:56:33 2017-10-02 11:07:15   \n",
       "1    delivered      2018-07-24 20:41:37 2018-07-26 03:24:27   \n",
       "2    delivered      2018-08-08 08:38:49 2018-08-08 08:55:23   \n",
       "3    delivered      2017-11-18 19:28:06 2017-11-18 19:45:59   \n",
       "4    delivered      2018-02-13 21:18:39 2018-02-13 22:20:29   \n",
       "\n",
       "  order_delivered_carrier_date order_delivered_customer_date  \\\n",
       "0          2017-10-04 19:55:00           2017-10-10 21:25:13   \n",
       "1          2018-07-26 14:31:00           2018-08-07 15:27:45   \n",
       "2          2018-08-08 13:50:00           2018-08-17 18:06:29   \n",
       "3          2017-11-22 13:39:59           2017-12-02 00:28:42   \n",
       "4          2018-02-14 19:46:34           2018-02-16 18:17:02   \n",
       "\n",
       "  order_estimated_delivery_date   price  freight_value  order_value  \\\n",
       "0                    2017-10-18   29.99           8.72        38.71   \n",
       "1                    2018-08-13  118.70          22.76       141.46   \n",
       "2                    2018-09-04  159.90          19.22       179.12   \n",
       "3                    2017-12-15   45.00          27.20        72.20   \n",
       "4                    2018-02-26   19.90           8.72        28.62   \n",
       "\n",
       "   freight_ratio  num_items  \n",
       "0       0.225265          1  \n",
       "1       0.160894          1  \n",
       "2       0.107302          1  \n",
       "3       0.376731          1  \n",
       "4       0.304682          1  "
      ]
     },
     "execution_count": 138,
     "metadata": {},
     "output_type": "execute_result"
    }
   ],
   "source": [
    "orders_final.head()"
   ]
  },
  {
   "cell_type": "code",
   "execution_count": 139,
   "metadata": {
    "ExecuteTime": {
     "end_time": "2020-10-11T02:50:42.709251Z",
     "start_time": "2020-10-11T02:50:42.677509Z"
    }
   },
   "outputs": [
    {
     "data": {
      "text/plain": [
       "delivered      96478\n",
       "shipped         1106\n",
       "canceled         461\n",
       "invoiced         312\n",
       "processing       301\n",
       "unavailable        6\n",
       "approved           2\n",
       "Name: order_status, dtype: int64"
      ]
     },
     "execution_count": 139,
     "metadata": {},
     "output_type": "execute_result"
    }
   ],
   "source": [
    "orders_final['order_status'].value_counts()"
   ]
  },
  {
   "cell_type": "markdown",
   "metadata": {},
   "source": [
    "Remove all non-delivered orders."
   ]
  },
  {
   "cell_type": "code",
   "execution_count": 140,
   "metadata": {
    "ExecuteTime": {
     "end_time": "2020-10-11T02:50:46.033479Z",
     "start_time": "2020-10-11T02:50:46.005555Z"
    }
   },
   "outputs": [],
   "source": [
    "orders_final=orders_final.query('order_status==\"delivered\"')"
   ]
  },
  {
   "cell_type": "code",
   "execution_count": 141,
   "metadata": {
    "ExecuteTime": {
     "end_time": "2020-10-11T02:50:46.667918Z",
     "start_time": "2020-10-11T02:50:46.645978Z"
    }
   },
   "outputs": [
    {
     "data": {
      "text/plain": [
       "(96478, 13)"
      ]
     },
     "execution_count": 141,
     "metadata": {},
     "output_type": "execute_result"
    }
   ],
   "source": [
    "orders_final.shape"
   ]
  },
  {
   "cell_type": "code",
   "execution_count": 142,
   "metadata": {
    "ExecuteTime": {
     "end_time": "2020-10-11T02:50:54.979617Z",
     "start_time": "2020-10-11T02:50:54.963660Z"
    }
   },
   "outputs": [
    {
     "data": {
      "text/plain": [
       "order_id                                 object\n",
       "customer_id                              object\n",
       "order_status                             object\n",
       "order_purchase_timestamp         datetime64[ns]\n",
       "order_approved_at                datetime64[ns]\n",
       "order_delivered_carrier_date     datetime64[ns]\n",
       "order_delivered_customer_date    datetime64[ns]\n",
       "order_estimated_delivery_date    datetime64[ns]\n",
       "price                                   float64\n",
       "freight_value                           float64\n",
       "order_value                             float64\n",
       "freight_ratio                           float64\n",
       "num_items                                 int64\n",
       "dtype: object"
      ]
     },
     "execution_count": 142,
     "metadata": {},
     "output_type": "execute_result"
    }
   ],
   "source": [
    "orders_final.dtypes"
   ]
  },
  {
   "cell_type": "markdown",
   "metadata": {},
   "source": [
    "## Customer Profile Function"
   ]
  },
  {
   "cell_type": "code",
   "execution_count": 191,
   "metadata": {
    "ExecuteTime": {
     "end_time": "2020-10-11T13:43:49.455851Z",
     "start_time": "2020-10-11T13:43:49.405988Z"
    }
   },
   "outputs": [],
   "source": [
    "# dedupe the customer table to customer_unique_id\n",
    "customers_deduped=customers.drop_duplicates(subset='customer_unique_id', keep='last')"
   ]
  },
  {
   "cell_type": "code",
   "execution_count": 192,
   "metadata": {
    "ExecuteTime": {
     "end_time": "2020-10-11T13:43:49.787962Z",
     "start_time": "2020-10-11T13:43:49.780982Z"
    }
   },
   "outputs": [
    {
     "name": "stdout",
     "output_type": "stream",
     "text": [
      "(99441, 5)\n",
      "(96096, 5)\n"
     ]
    }
   ],
   "source": [
    "print(customers.shape)\n",
    "print(customers_deduped.shape)"
   ]
  },
  {
   "cell_type": "code",
   "execution_count": 143,
   "metadata": {
    "ExecuteTime": {
     "end_time": "2020-10-11T02:50:58.823286Z",
     "start_time": "2020-10-11T02:50:58.803359Z"
    }
   },
   "outputs": [
    {
     "data": {
      "text/plain": [
       "Timestamp('2016-09-15 12:16:38')"
      ]
     },
     "execution_count": 143,
     "metadata": {},
     "output_type": "execute_result"
    }
   ],
   "source": [
    "orders_final['order_approved_at'].min()"
   ]
  },
  {
   "cell_type": "code",
   "execution_count": 144,
   "metadata": {
    "ExecuteTime": {
     "end_time": "2020-10-11T02:51:10.323032Z",
     "start_time": "2020-10-11T02:51:10.303090Z"
    }
   },
   "outputs": [
    {
     "data": {
      "text/plain": [
       "Timestamp('2018-08-29 15:10:26')"
      ]
     },
     "execution_count": 144,
     "metadata": {},
     "output_type": "execute_result"
    }
   ],
   "source": [
    "orders_final['order_approved_at'].max()"
   ]
  },
  {
   "cell_type": "code",
   "execution_count": 199,
   "metadata": {
    "ExecuteTime": {
     "end_time": "2020-10-11T13:45:12.295314Z",
     "start_time": "2020-10-11T13:45:12.264397Z"
    }
   },
   "outputs": [],
   "source": [
    "def generate_customer_profile(start_date, end_date):\n",
    "    # subset orders by date range\n",
    "    orders_subset=orders_final[(orders_final['order_approved_at']<=end_date) & (orders_final['order_approved_at']>=start_date)]\n",
    "    \n",
    "    # join orders to customers\n",
    "    orders_subset_customers=pd.merge(customers,orders_subset, on='customer_id', how='inner')\n",
    "    \n",
    "    # create customer-level order attributes\n",
    "    first_order_date=orders_subset_customers.groupby('customer_unique_id')['order_approved_at'].min().reset_index()\n",
    "    last_order_date=orders_subset_customers.groupby('customer_unique_id')['order_approved_at'].max().reset_index()\n",
    "    num_orders=orders_subset_customers.groupby('customer_unique_id')['order_id'].count().reset_index()\n",
    "    num_orderdays=orders_subset_customers.groupby('customer_unique_id')['order_approved_at'].count().reset_index()\n",
    "    num_items=orders_subset_customers.groupby('customer_unique_id')['num_items'].sum().reset_index()\n",
    "    total_price=orders_subset_customers.groupby('customer_unique_id')['price'].sum().reset_index()\n",
    "    total_freight=orders_subset_customers.groupby('customer_unique_id')['freight_value'].sum().reset_index()\n",
    "    total_ordervalue=orders_subset_customers.groupby('customer_unique_id')['order_value'].sum().reset_index()\n",
    "    avg_freight_ratio=orders_subset_customers.groupby('customer_unique_id')['freight_ratio'].mean().reset_index()\n",
    "    avg_item_price=orders_subset_customers.groupby('customer_unique_id')['price'].mean().reset_index()\n",
    "    avg_order_value=orders_subset_customers.groupby('customer_unique_id')['order_value'].mean().reset_index()\n",
    "\n",
    "    # rename columns\n",
    "    first_order_date.rename(columns={'order_approved_at':'first_order_date'}, inplace=True)\n",
    "    last_order_date.rename(columns={'order_approved_at':'last_order_date'}, inplace=True)\n",
    "    num_orders.rename(columns={'order_id':'num_orders'}, inplace=True)\n",
    "    num_orderdays.rename(columns={'order_approved_at':'num_order_days'}, inplace=True)\n",
    "    num_items.rename(columns={'num_items':'total_num_items'}, inplace=True)\n",
    "    total_price.rename(columns={'price':'total_price'}, inplace=True)\n",
    "    total_freight.rename(columns={'freight_value':'total_freight'}, inplace=True)\n",
    "    total_ordervalue.rename(columns={'order_value':'total_order_value'}, inplace=True)\n",
    "    avg_freight_ratio.rename(columns={'freight_ratio':'avg_freight_ratio'}, inplace=True)\n",
    "    avg_item_price.rename(columns={'price':'avg_item_price'}, inplace=True)\n",
    "    avg_order_value.rename(columns={'order_value':'avg_order_value'}, inplace=True)\n",
    "    \n",
    "    # merge all the customer-level attributes to the customer table to create a customer_profile dataframe\n",
    "    aggregated_attributes=[first_order_date,last_order_date,num_orders,num_orderdays,num_items,total_price,\\\n",
    "                      total_freight,total_ordervalue,avg_freight_ratio,avg_item_price,avg_order_value]\n",
    "\n",
    "    customer_profiles=pd.DataFrame()\n",
    "    \n",
    "    # NEED TO DEDUPE THE CUSTOMERS TABLE\n",
    "    for i, attribute in enumerate(aggregated_attributes):\n",
    "        if i==0:\n",
    "            customer_profiles=pd.merge(customers_deduped,attribute, on='customer_unique_id', how='inner')\n",
    "        elif i<len(attribute)-1:\n",
    "            customer_profiles=pd.merge(customer_profiles, attribute, on='customer_unique_id', how='inner')\n",
    "    \n",
    "    # return the final profiles dataframe\n",
    "    return customer_profiles"
   ]
  },
  {
   "cell_type": "code",
   "execution_count": 200,
   "metadata": {
    "ExecuteTime": {
     "end_time": "2020-10-11T13:45:13.642208Z",
     "start_time": "2020-10-11T13:45:13.043113Z"
    }
   },
   "outputs": [],
   "source": [
    "# create a base customer profile\n",
    "start_date_base=orders_final['order_approved_at'].min()\n",
    "end_date_base='2017-08-29 23:59:59'\n",
    "customer_profiles_base=generate_customer_profile(start_date_base,end_date_base)"
   ]
  },
  {
   "cell_type": "code",
   "execution_count": 201,
   "metadata": {
    "ExecuteTime": {
     "end_time": "2020-10-11T13:45:14.947395Z",
     "start_time": "2020-10-11T13:45:14.931440Z"
    }
   },
   "outputs": [
    {
     "data": {
      "text/plain": [
       "(21283, 16)"
      ]
     },
     "execution_count": 201,
     "metadata": {},
     "output_type": "execute_result"
    }
   ],
   "source": [
    "customer_profiles_base.shape"
   ]
  },
  {
   "cell_type": "code",
   "execution_count": 202,
   "metadata": {
    "ExecuteTime": {
     "end_time": "2020-10-11T13:45:17.134467Z",
     "start_time": "2020-10-11T13:45:17.125491Z"
    }
   },
   "outputs": [
    {
     "name": "stdout",
     "output_type": "stream",
     "text": [
      "2016-09-15 12:16:38\n",
      "2017-08-29 23:44:42\n"
     ]
    }
   ],
   "source": [
    "print(customer_profiles_base['first_order_date'].min())\n",
    "print(customer_profiles_base['last_order_date'].max())"
   ]
  },
  {
   "cell_type": "code",
   "execution_count": 226,
   "metadata": {
    "ExecuteTime": {
     "end_time": "2020-10-11T14:09:25.096596Z",
     "start_time": "2020-10-11T14:09:23.251365Z"
    }
   },
   "outputs": [],
   "source": [
    "# create 1YR forward customer profile\n",
    "start_date_1YR='2017-08-30 00:00:00'\n",
    "end_date_1YR=orders_final['order_approved_at'].max()\n",
    "customer_profiles_1YR=generate_customer_profile(start_date_1YR,end_date_1YR)"
   ]
  },
  {
   "cell_type": "code",
   "execution_count": 227,
   "metadata": {
    "ExecuteTime": {
     "end_time": "2020-10-11T14:09:25.112155Z",
     "start_time": "2020-10-11T14:09:25.099190Z"
    }
   },
   "outputs": [
    {
     "data": {
      "text/plain": [
       "(72612, 16)"
      ]
     },
     "execution_count": 227,
     "metadata": {},
     "output_type": "execute_result"
    }
   ],
   "source": [
    "customer_profiles_1YR.shape"
   ]
  },
  {
   "cell_type": "code",
   "execution_count": 228,
   "metadata": {
    "ExecuteTime": {
     "end_time": "2020-10-11T14:09:26.511243Z",
     "start_time": "2020-10-11T14:09:26.491295Z"
    }
   },
   "outputs": [
    {
     "name": "stdout",
     "output_type": "stream",
     "text": [
      "2017-08-30 00:04:21\n",
      "2018-08-29 15:10:26\n"
     ]
    }
   ],
   "source": [
    "print(customer_profiles_1YR['first_order_date'].min())\n",
    "print(customer_profiles_1YR['last_order_date'].max())"
   ]
  },
  {
   "cell_type": "code",
   "execution_count": 229,
   "metadata": {
    "ExecuteTime": {
     "end_time": "2020-10-11T14:09:27.398372Z",
     "start_time": "2020-10-11T14:09:27.362435Z"
    },
    "scrolled": true
   },
   "outputs": [
    {
     "data": {
      "text/html": [
       "<div>\n",
       "<style scoped>\n",
       "    .dataframe tbody tr th:only-of-type {\n",
       "        vertical-align: middle;\n",
       "    }\n",
       "\n",
       "    .dataframe tbody tr th {\n",
       "        vertical-align: top;\n",
       "    }\n",
       "\n",
       "    .dataframe thead th {\n",
       "        text-align: right;\n",
       "    }\n",
       "</style>\n",
       "<table border=\"1\" class=\"dataframe\">\n",
       "  <thead>\n",
       "    <tr style=\"text-align: right;\">\n",
       "      <th></th>\n",
       "      <th>customer_id</th>\n",
       "      <th>customer_unique_id</th>\n",
       "      <th>customer_zip_code_prefix</th>\n",
       "      <th>customer_city</th>\n",
       "      <th>customer_state</th>\n",
       "      <th>first_order_date</th>\n",
       "      <th>last_order_date</th>\n",
       "      <th>num_orders</th>\n",
       "      <th>num_order_days</th>\n",
       "      <th>total_num_items</th>\n",
       "      <th>total_price</th>\n",
       "      <th>total_freight</th>\n",
       "      <th>total_order_value</th>\n",
       "      <th>avg_freight_ratio</th>\n",
       "      <th>avg_item_price</th>\n",
       "      <th>avg_order_value</th>\n",
       "    </tr>\n",
       "  </thead>\n",
       "  <tbody>\n",
       "    <tr>\n",
       "      <th>0</th>\n",
       "      <td>06b8999e2fba1a1fbc88172c00ba8bc7</td>\n",
       "      <td>861eff4711a542e4b93843c6dd7febb0</td>\n",
       "      <td>14409</td>\n",
       "      <td>franca</td>\n",
       "      <td>SP</td>\n",
       "      <td>2017-05-16 15:22:12</td>\n",
       "      <td>2017-05-16 15:22:12</td>\n",
       "      <td>1</td>\n",
       "      <td>1</td>\n",
       "      <td>1</td>\n",
       "      <td>124.99</td>\n",
       "      <td>21.88</td>\n",
       "      <td>146.87</td>\n",
       "      <td>0.148975</td>\n",
       "      <td>124.99</td>\n",
       "      <td>146.87</td>\n",
       "    </tr>\n",
       "    <tr>\n",
       "      <th>1</th>\n",
       "      <td>9b8ce803689b3562defaad4613ef426f</td>\n",
       "      <td>7f3a72e8f988c6e735ba118d54f47458</td>\n",
       "      <td>5416</td>\n",
       "      <td>sao paulo</td>\n",
       "      <td>SP</td>\n",
       "      <td>2017-05-13 11:55:16</td>\n",
       "      <td>2017-05-13 11:55:16</td>\n",
       "      <td>1</td>\n",
       "      <td>1</td>\n",
       "      <td>1</td>\n",
       "      <td>89.90</td>\n",
       "      <td>12.13</td>\n",
       "      <td>102.03</td>\n",
       "      <td>0.118887</td>\n",
       "      <td>89.90</td>\n",
       "      <td>102.03</td>\n",
       "    </tr>\n",
       "    <tr>\n",
       "      <th>2</th>\n",
       "      <td>154c4ded6991bdfa3cd249d11abf4130</td>\n",
       "      <td>e607ede0e63436308660236f5a52da5e</td>\n",
       "      <td>88034</td>\n",
       "      <td>florianopolis</td>\n",
       "      <td>SC</td>\n",
       "      <td>2017-08-13 10:24:04</td>\n",
       "      <td>2017-08-13 10:24:04</td>\n",
       "      <td>1</td>\n",
       "      <td>1</td>\n",
       "      <td>1</td>\n",
       "      <td>105.00</td>\n",
       "      <td>18.00</td>\n",
       "      <td>123.00</td>\n",
       "      <td>0.146341</td>\n",
       "      <td>105.00</td>\n",
       "      <td>123.00</td>\n",
       "    </tr>\n",
       "    <tr>\n",
       "      <th>3</th>\n",
       "      <td>237098a64674ae89babdc426746260fc</td>\n",
       "      <td>4390ddbb6276a66ff1736a6710205dca</td>\n",
       "      <td>82820</td>\n",
       "      <td>curitiba</td>\n",
       "      <td>PR</td>\n",
       "      <td>2017-04-14 11:35:23</td>\n",
       "      <td>2017-04-14 11:35:23</td>\n",
       "      <td>1</td>\n",
       "      <td>1</td>\n",
       "      <td>1</td>\n",
       "      <td>79.90</td>\n",
       "      <td>14.73</td>\n",
       "      <td>94.63</td>\n",
       "      <td>0.155659</td>\n",
       "      <td>79.90</td>\n",
       "      <td>94.63</td>\n",
       "    </tr>\n",
       "    <tr>\n",
       "      <th>4</th>\n",
       "      <td>6e359a57a91f84095cc64e1b351aef8c</td>\n",
       "      <td>2e6a42a9b5cbb0da62988694f18ee295</td>\n",
       "      <td>4571</td>\n",
       "      <td>sao paulo</td>\n",
       "      <td>SP</td>\n",
       "      <td>2017-05-15 18:10:18</td>\n",
       "      <td>2017-05-15 18:10:18</td>\n",
       "      <td>1</td>\n",
       "      <td>1</td>\n",
       "      <td>1</td>\n",
       "      <td>29.99</td>\n",
       "      <td>17.60</td>\n",
       "      <td>47.59</td>\n",
       "      <td>0.369826</td>\n",
       "      <td>29.99</td>\n",
       "      <td>47.59</td>\n",
       "    </tr>\n",
       "  </tbody>\n",
       "</table>\n",
       "</div>"
      ],
      "text/plain": [
       "                        customer_id                customer_unique_id  \\\n",
       "0  06b8999e2fba1a1fbc88172c00ba8bc7  861eff4711a542e4b93843c6dd7febb0   \n",
       "1  9b8ce803689b3562defaad4613ef426f  7f3a72e8f988c6e735ba118d54f47458   \n",
       "2  154c4ded6991bdfa3cd249d11abf4130  e607ede0e63436308660236f5a52da5e   \n",
       "3  237098a64674ae89babdc426746260fc  4390ddbb6276a66ff1736a6710205dca   \n",
       "4  6e359a57a91f84095cc64e1b351aef8c  2e6a42a9b5cbb0da62988694f18ee295   \n",
       "\n",
       "  customer_zip_code_prefix  customer_city customer_state    first_order_date  \\\n",
       "0                    14409         franca             SP 2017-05-16 15:22:12   \n",
       "1                     5416      sao paulo             SP 2017-05-13 11:55:16   \n",
       "2                    88034  florianopolis             SC 2017-08-13 10:24:04   \n",
       "3                    82820       curitiba             PR 2017-04-14 11:35:23   \n",
       "4                     4571      sao paulo             SP 2017-05-15 18:10:18   \n",
       "\n",
       "      last_order_date  num_orders  num_order_days  total_num_items  \\\n",
       "0 2017-05-16 15:22:12           1               1                1   \n",
       "1 2017-05-13 11:55:16           1               1                1   \n",
       "2 2017-08-13 10:24:04           1               1                1   \n",
       "3 2017-04-14 11:35:23           1               1                1   \n",
       "4 2017-05-15 18:10:18           1               1                1   \n",
       "\n",
       "   total_price  total_freight  total_order_value  avg_freight_ratio  \\\n",
       "0       124.99          21.88             146.87           0.148975   \n",
       "1        89.90          12.13             102.03           0.118887   \n",
       "2       105.00          18.00             123.00           0.146341   \n",
       "3        79.90          14.73              94.63           0.155659   \n",
       "4        29.99          17.60              47.59           0.369826   \n",
       "\n",
       "   avg_item_price  avg_order_value  \n",
       "0          124.99           146.87  \n",
       "1           89.90           102.03  \n",
       "2          105.00           123.00  \n",
       "3           79.90            94.63  \n",
       "4           29.99            47.59  "
      ]
     },
     "execution_count": 229,
     "metadata": {},
     "output_type": "execute_result"
    }
   ],
   "source": [
    "customer_profiles_base.head()"
   ]
  },
  {
   "cell_type": "code",
   "execution_count": 230,
   "metadata": {
    "ExecuteTime": {
     "end_time": "2020-10-11T14:09:28.769100Z",
     "start_time": "2020-10-11T14:09:28.727700Z"
    },
    "scrolled": true
   },
   "outputs": [
    {
     "data": {
      "text/html": [
       "<div>\n",
       "<style scoped>\n",
       "    .dataframe tbody tr th:only-of-type {\n",
       "        vertical-align: middle;\n",
       "    }\n",
       "\n",
       "    .dataframe tbody tr th {\n",
       "        vertical-align: top;\n",
       "    }\n",
       "\n",
       "    .dataframe thead th {\n",
       "        text-align: right;\n",
       "    }\n",
       "</style>\n",
       "<table border=\"1\" class=\"dataframe\">\n",
       "  <thead>\n",
       "    <tr style=\"text-align: right;\">\n",
       "      <th></th>\n",
       "      <th>customer_id</th>\n",
       "      <th>customer_unique_id</th>\n",
       "      <th>customer_zip_code_prefix</th>\n",
       "      <th>customer_city</th>\n",
       "      <th>customer_state</th>\n",
       "      <th>first_order_date</th>\n",
       "      <th>last_order_date</th>\n",
       "      <th>num_orders</th>\n",
       "      <th>num_order_days</th>\n",
       "      <th>total_num_items</th>\n",
       "      <th>total_price</th>\n",
       "      <th>total_freight</th>\n",
       "      <th>total_order_value</th>\n",
       "      <th>avg_freight_ratio</th>\n",
       "      <th>avg_item_price</th>\n",
       "      <th>avg_order_value</th>\n",
       "    </tr>\n",
       "  </thead>\n",
       "  <tbody>\n",
       "    <tr>\n",
       "      <th>0</th>\n",
       "      <td>18955e83d337fd6b2def6b18a428ac77</td>\n",
       "      <td>290c77bc529b7ac935b93aa66c333dc3</td>\n",
       "      <td>9790</td>\n",
       "      <td>sao bernardo do campo</td>\n",
       "      <td>SP</td>\n",
       "      <td>2018-01-12 20:58:32</td>\n",
       "      <td>2018-01-12 20:58:32</td>\n",
       "      <td>1</td>\n",
       "      <td>1</td>\n",
       "      <td>1</td>\n",
       "      <td>289.00</td>\n",
       "      <td>46.48</td>\n",
       "      <td>335.48</td>\n",
       "      <td>0.138548</td>\n",
       "      <td>289.00</td>\n",
       "      <td>335.48</td>\n",
       "    </tr>\n",
       "    <tr>\n",
       "      <th>1</th>\n",
       "      <td>4e7b3e00288586ebd08712fdd0374a03</td>\n",
       "      <td>060e732b5b29e8181a18229c7b0b2b5e</td>\n",
       "      <td>1151</td>\n",
       "      <td>sao paulo</td>\n",
       "      <td>SP</td>\n",
       "      <td>2018-05-20 16:19:10</td>\n",
       "      <td>2018-05-20 16:19:10</td>\n",
       "      <td>1</td>\n",
       "      <td>1</td>\n",
       "      <td>1</td>\n",
       "      <td>139.94</td>\n",
       "      <td>17.79</td>\n",
       "      <td>157.73</td>\n",
       "      <td>0.112788</td>\n",
       "      <td>139.94</td>\n",
       "      <td>157.73</td>\n",
       "    </tr>\n",
       "    <tr>\n",
       "      <th>2</th>\n",
       "      <td>b2b6027bc5c5109e529d4dc6358b12c3</td>\n",
       "      <td>259dac757896d24d7702b9acbbff3f3c</td>\n",
       "      <td>8775</td>\n",
       "      <td>mogi das cruzes</td>\n",
       "      <td>SP</td>\n",
       "      <td>2018-03-13 17:29:19</td>\n",
       "      <td>2018-03-13 17:29:19</td>\n",
       "      <td>1</td>\n",
       "      <td>1</td>\n",
       "      <td>1</td>\n",
       "      <td>149.94</td>\n",
       "      <td>23.36</td>\n",
       "      <td>173.30</td>\n",
       "      <td>0.134795</td>\n",
       "      <td>149.94</td>\n",
       "      <td>173.30</td>\n",
       "    </tr>\n",
       "    <tr>\n",
       "      <th>3</th>\n",
       "      <td>4f2d8ab171c80ec8364f7c12e35b23ad</td>\n",
       "      <td>345ecd01c38d18a9036ed96c73b8d066</td>\n",
       "      <td>13056</td>\n",
       "      <td>campinas</td>\n",
       "      <td>SP</td>\n",
       "      <td>2018-07-29 10:10:09</td>\n",
       "      <td>2018-07-29 10:10:09</td>\n",
       "      <td>1</td>\n",
       "      <td>1</td>\n",
       "      <td>1</td>\n",
       "      <td>230.00</td>\n",
       "      <td>22.25</td>\n",
       "      <td>252.25</td>\n",
       "      <td>0.088206</td>\n",
       "      <td>230.00</td>\n",
       "      <td>252.25</td>\n",
       "    </tr>\n",
       "    <tr>\n",
       "      <th>4</th>\n",
       "      <td>fd826e7cf63160e536e0908c76c3f441</td>\n",
       "      <td>addec96d2e059c80c30fe6871d30d177</td>\n",
       "      <td>4534</td>\n",
       "      <td>sao paulo</td>\n",
       "      <td>SP</td>\n",
       "      <td>2018-02-19 14:50:37</td>\n",
       "      <td>2018-02-19 14:50:37</td>\n",
       "      <td>1</td>\n",
       "      <td>1</td>\n",
       "      <td>1</td>\n",
       "      <td>14.99</td>\n",
       "      <td>7.78</td>\n",
       "      <td>22.77</td>\n",
       "      <td>0.341678</td>\n",
       "      <td>14.99</td>\n",
       "      <td>22.77</td>\n",
       "    </tr>\n",
       "  </tbody>\n",
       "</table>\n",
       "</div>"
      ],
      "text/plain": [
       "                        customer_id                customer_unique_id  \\\n",
       "0  18955e83d337fd6b2def6b18a428ac77  290c77bc529b7ac935b93aa66c333dc3   \n",
       "1  4e7b3e00288586ebd08712fdd0374a03  060e732b5b29e8181a18229c7b0b2b5e   \n",
       "2  b2b6027bc5c5109e529d4dc6358b12c3  259dac757896d24d7702b9acbbff3f3c   \n",
       "3  4f2d8ab171c80ec8364f7c12e35b23ad  345ecd01c38d18a9036ed96c73b8d066   \n",
       "4  fd826e7cf63160e536e0908c76c3f441  addec96d2e059c80c30fe6871d30d177   \n",
       "\n",
       "  customer_zip_code_prefix          customer_city customer_state  \\\n",
       "0                     9790  sao bernardo do campo             SP   \n",
       "1                     1151              sao paulo             SP   \n",
       "2                     8775        mogi das cruzes             SP   \n",
       "3                    13056               campinas             SP   \n",
       "4                     4534              sao paulo             SP   \n",
       "\n",
       "     first_order_date     last_order_date  num_orders  num_order_days  \\\n",
       "0 2018-01-12 20:58:32 2018-01-12 20:58:32           1               1   \n",
       "1 2018-05-20 16:19:10 2018-05-20 16:19:10           1               1   \n",
       "2 2018-03-13 17:29:19 2018-03-13 17:29:19           1               1   \n",
       "3 2018-07-29 10:10:09 2018-07-29 10:10:09           1               1   \n",
       "4 2018-02-19 14:50:37 2018-02-19 14:50:37           1               1   \n",
       "\n",
       "   total_num_items  total_price  total_freight  total_order_value  \\\n",
       "0                1       289.00          46.48             335.48   \n",
       "1                1       139.94          17.79             157.73   \n",
       "2                1       149.94          23.36             173.30   \n",
       "3                1       230.00          22.25             252.25   \n",
       "4                1        14.99           7.78              22.77   \n",
       "\n",
       "   avg_freight_ratio  avg_item_price  avg_order_value  \n",
       "0           0.138548          289.00           335.48  \n",
       "1           0.112788          139.94           157.73  \n",
       "2           0.134795          149.94           173.30  \n",
       "3           0.088206          230.00           252.25  \n",
       "4           0.341678           14.99            22.77  "
      ]
     },
     "execution_count": 230,
     "metadata": {},
     "output_type": "execute_result"
    }
   ],
   "source": [
    "customer_profiles_1YR.head()"
   ]
  },
  {
   "cell_type": "code",
   "execution_count": 231,
   "metadata": {
    "ExecuteTime": {
     "end_time": "2020-10-11T14:09:30.359062Z",
     "start_time": "2020-10-11T14:09:30.272292Z"
    }
   },
   "outputs": [
    {
     "name": "stdout",
     "output_type": "stream",
     "text": [
      "(550, 31)\n"
     ]
    }
   ],
   "source": [
    "# see how many customers actually made a future purchase\n",
    "customer_profiles_base_1YR=pd.merge(customer_profiles_base,customer_profiles_1YR,on='customer_unique_id',how='inner')\n",
    "print(customer_profiles_base_1YR.shape)"
   ]
  },
  {
   "cell_type": "code",
   "execution_count": 232,
   "metadata": {
    "ExecuteTime": {
     "end_time": "2020-10-11T14:09:43.337267Z",
     "start_time": "2020-10-11T14:09:43.292356Z"
    }
   },
   "outputs": [
    {
     "data": {
      "text/html": [
       "<div>\n",
       "<style scoped>\n",
       "    .dataframe tbody tr th:only-of-type {\n",
       "        vertical-align: middle;\n",
       "    }\n",
       "\n",
       "    .dataframe tbody tr th {\n",
       "        vertical-align: top;\n",
       "    }\n",
       "\n",
       "    .dataframe thead th {\n",
       "        text-align: right;\n",
       "    }\n",
       "</style>\n",
       "<table border=\"1\" class=\"dataframe\">\n",
       "  <thead>\n",
       "    <tr style=\"text-align: right;\">\n",
       "      <th></th>\n",
       "      <th>num_orders</th>\n",
       "      <th>num_order_days</th>\n",
       "      <th>total_num_items</th>\n",
       "      <th>total_price</th>\n",
       "      <th>total_freight</th>\n",
       "      <th>total_order_value</th>\n",
       "      <th>avg_freight_ratio</th>\n",
       "      <th>avg_item_price</th>\n",
       "      <th>avg_order_value</th>\n",
       "    </tr>\n",
       "  </thead>\n",
       "  <tbody>\n",
       "    <tr>\n",
       "      <th>count</th>\n",
       "      <td>21283.000000</td>\n",
       "      <td>21283.000000</td>\n",
       "      <td>21283.000000</td>\n",
       "      <td>21283.000000</td>\n",
       "      <td>21283.000000</td>\n",
       "      <td>21283.000000</td>\n",
       "      <td>21283.000000</td>\n",
       "      <td>21283.000000</td>\n",
       "      <td>21283.000000</td>\n",
       "    </tr>\n",
       "    <tr>\n",
       "      <th>mean</th>\n",
       "      <td>1.027628</td>\n",
       "      <td>1.027628</td>\n",
       "      <td>1.165907</td>\n",
       "      <td>139.499922</td>\n",
       "      <td>22.396122</td>\n",
       "      <td>161.896043</td>\n",
       "      <td>0.210889</td>\n",
       "      <td>136.181563</td>\n",
       "      <td>157.966048</td>\n",
       "    </tr>\n",
       "    <tr>\n",
       "      <th>std</th>\n",
       "      <td>0.180810</td>\n",
       "      <td>0.180810</td>\n",
       "      <td>0.571920</td>\n",
       "      <td>223.662149</td>\n",
       "      <td>20.057880</td>\n",
       "      <td>232.501207</td>\n",
       "      <td>0.126847</td>\n",
       "      <td>215.619120</td>\n",
       "      <td>223.897078</td>\n",
       "    </tr>\n",
       "    <tr>\n",
       "      <th>min</th>\n",
       "      <td>1.000000</td>\n",
       "      <td>1.000000</td>\n",
       "      <td>1.000000</td>\n",
       "      <td>3.900000</td>\n",
       "      <td>0.000000</td>\n",
       "      <td>12.280000</td>\n",
       "      <td>0.000000</td>\n",
       "      <td>3.900000</td>\n",
       "      <td>12.280000</td>\n",
       "    </tr>\n",
       "    <tr>\n",
       "      <th>25%</th>\n",
       "      <td>1.000000</td>\n",
       "      <td>1.000000</td>\n",
       "      <td>1.000000</td>\n",
       "      <td>45.490000</td>\n",
       "      <td>14.110000</td>\n",
       "      <td>61.460000</td>\n",
       "      <td>0.118887</td>\n",
       "      <td>45.000000</td>\n",
       "      <td>60.860000</td>\n",
       "    </tr>\n",
       "    <tr>\n",
       "      <th>50%</th>\n",
       "      <td>1.000000</td>\n",
       "      <td>1.000000</td>\n",
       "      <td>1.000000</td>\n",
       "      <td>86.800000</td>\n",
       "      <td>16.790000</td>\n",
       "      <td>104.700000</td>\n",
       "      <td>0.183411</td>\n",
       "      <td>84.900000</td>\n",
       "      <td>102.120000</td>\n",
       "    </tr>\n",
       "    <tr>\n",
       "      <th>75%</th>\n",
       "      <td>1.000000</td>\n",
       "      <td>1.000000</td>\n",
       "      <td>1.000000</td>\n",
       "      <td>150.000000</td>\n",
       "      <td>24.840000</td>\n",
       "      <td>177.345000</td>\n",
       "      <td>0.278158</td>\n",
       "      <td>149.700000</td>\n",
       "      <td>171.850000</td>\n",
       "    </tr>\n",
       "    <tr>\n",
       "      <th>max</th>\n",
       "      <td>6.000000</td>\n",
       "      <td>6.000000</td>\n",
       "      <td>21.000000</td>\n",
       "      <td>7388.000000</td>\n",
       "      <td>1002.290000</td>\n",
       "      <td>7571.630000</td>\n",
       "      <td>0.851621</td>\n",
       "      <td>6735.000000</td>\n",
       "      <td>6929.310000</td>\n",
       "    </tr>\n",
       "  </tbody>\n",
       "</table>\n",
       "</div>"
      ],
      "text/plain": [
       "         num_orders  num_order_days  total_num_items   total_price  \\\n",
       "count  21283.000000    21283.000000     21283.000000  21283.000000   \n",
       "mean       1.027628        1.027628         1.165907    139.499922   \n",
       "std        0.180810        0.180810         0.571920    223.662149   \n",
       "min        1.000000        1.000000         1.000000      3.900000   \n",
       "25%        1.000000        1.000000         1.000000     45.490000   \n",
       "50%        1.000000        1.000000         1.000000     86.800000   \n",
       "75%        1.000000        1.000000         1.000000    150.000000   \n",
       "max        6.000000        6.000000        21.000000   7388.000000   \n",
       "\n",
       "       total_freight  total_order_value  avg_freight_ratio  avg_item_price  \\\n",
       "count   21283.000000       21283.000000       21283.000000    21283.000000   \n",
       "mean       22.396122         161.896043           0.210889      136.181563   \n",
       "std        20.057880         232.501207           0.126847      215.619120   \n",
       "min         0.000000          12.280000           0.000000        3.900000   \n",
       "25%        14.110000          61.460000           0.118887       45.000000   \n",
       "50%        16.790000         104.700000           0.183411       84.900000   \n",
       "75%        24.840000         177.345000           0.278158      149.700000   \n",
       "max      1002.290000        7571.630000           0.851621     6735.000000   \n",
       "\n",
       "       avg_order_value  \n",
       "count     21283.000000  \n",
       "mean        157.966048  \n",
       "std         223.897078  \n",
       "min          12.280000  \n",
       "25%          60.860000  \n",
       "50%         102.120000  \n",
       "75%         171.850000  \n",
       "max        6929.310000  "
      ]
     },
     "execution_count": 232,
     "metadata": {},
     "output_type": "execute_result"
    }
   ],
   "source": [
    "# summary: customer_profiles_base\n",
    "customer_profiles_base.describe()"
   ]
  },
  {
   "cell_type": "code",
   "execution_count": 260,
   "metadata": {
    "ExecuteTime": {
     "end_time": "2020-10-11T14:48:38.031926Z",
     "start_time": "2020-10-11T14:48:38.016966Z"
    }
   },
   "outputs": [],
   "source": [
    "# add column with snapshot date\n",
    "customer_profiles_base['snapshot_date'] = '2017-08-29 23:59:59'\n",
    "customer_profiles_base['snapshot_date']=pd.to_datetime(customer_profiles_base['snapshot_date'])"
   ]
  },
  {
   "cell_type": "code",
   "execution_count": 261,
   "metadata": {
    "ExecuteTime": {
     "end_time": "2020-10-11T14:49:01.682599Z",
     "start_time": "2020-10-11T14:49:01.658660Z"
    }
   },
   "outputs": [],
   "source": [
    "# add days since first & last orders\n",
    "customer_profiles_base['days_since_last_order']=(customer_profiles_base['snapshot_date'] - customer_profiles_base['last_order_date']).dt.days\n",
    "customer_profiles_base['days_since_first_order']=(customer_profiles_base['snapshot_date'] - customer_profiles_base['first_order_date']).dt.days"
   ]
  },
  {
   "cell_type": "code",
   "execution_count": 262,
   "metadata": {
    "ExecuteTime": {
     "end_time": "2020-10-11T14:49:10.470821Z",
     "start_time": "2020-10-11T14:49:10.446886Z"
    }
   },
   "outputs": [
    {
     "data": {
      "text/html": [
       "<div>\n",
       "<style scoped>\n",
       "    .dataframe tbody tr th:only-of-type {\n",
       "        vertical-align: middle;\n",
       "    }\n",
       "\n",
       "    .dataframe tbody tr th {\n",
       "        vertical-align: top;\n",
       "    }\n",
       "\n",
       "    .dataframe thead th {\n",
       "        text-align: right;\n",
       "    }\n",
       "</style>\n",
       "<table border=\"1\" class=\"dataframe\">\n",
       "  <thead>\n",
       "    <tr style=\"text-align: right;\">\n",
       "      <th></th>\n",
       "      <th>first_order_date</th>\n",
       "      <th>last_order_date</th>\n",
       "      <th>days_since_last_order</th>\n",
       "      <th>days_since_first_order</th>\n",
       "    </tr>\n",
       "  </thead>\n",
       "  <tbody>\n",
       "    <tr>\n",
       "      <th>0</th>\n",
       "      <td>2017-05-16 15:22:12</td>\n",
       "      <td>2017-05-16 15:22:12</td>\n",
       "      <td>105</td>\n",
       "      <td>105</td>\n",
       "    </tr>\n",
       "    <tr>\n",
       "      <th>1</th>\n",
       "      <td>2017-05-13 11:55:16</td>\n",
       "      <td>2017-05-13 11:55:16</td>\n",
       "      <td>108</td>\n",
       "      <td>108</td>\n",
       "    </tr>\n",
       "    <tr>\n",
       "      <th>2</th>\n",
       "      <td>2017-08-13 10:24:04</td>\n",
       "      <td>2017-08-13 10:24:04</td>\n",
       "      <td>16</td>\n",
       "      <td>16</td>\n",
       "    </tr>\n",
       "    <tr>\n",
       "      <th>3</th>\n",
       "      <td>2017-04-14 11:35:23</td>\n",
       "      <td>2017-04-14 11:35:23</td>\n",
       "      <td>137</td>\n",
       "      <td>137</td>\n",
       "    </tr>\n",
       "    <tr>\n",
       "      <th>4</th>\n",
       "      <td>2017-05-15 18:10:18</td>\n",
       "      <td>2017-05-15 18:10:18</td>\n",
       "      <td>106</td>\n",
       "      <td>106</td>\n",
       "    </tr>\n",
       "  </tbody>\n",
       "</table>\n",
       "</div>"
      ],
      "text/plain": [
       "     first_order_date     last_order_date  days_since_last_order  \\\n",
       "0 2017-05-16 15:22:12 2017-05-16 15:22:12                    105   \n",
       "1 2017-05-13 11:55:16 2017-05-13 11:55:16                    108   \n",
       "2 2017-08-13 10:24:04 2017-08-13 10:24:04                     16   \n",
       "3 2017-04-14 11:35:23 2017-04-14 11:35:23                    137   \n",
       "4 2017-05-15 18:10:18 2017-05-15 18:10:18                    106   \n",
       "\n",
       "   days_since_first_order  \n",
       "0                     105  \n",
       "1                     108  \n",
       "2                      16  \n",
       "3                     137  \n",
       "4                     106  "
      ]
     },
     "execution_count": 262,
     "metadata": {},
     "output_type": "execute_result"
    }
   ],
   "source": [
    "customer_profiles_base[['first_order_date', 'last_order_date','days_since_last_order','days_since_first_order']].head()"
   ]
  },
  {
   "cell_type": "code",
   "execution_count": 264,
   "metadata": {
    "ExecuteTime": {
     "end_time": "2020-10-11T14:50:06.789325Z",
     "start_time": "2020-10-11T14:50:06.774366Z"
    }
   },
   "outputs": [],
   "source": [
    "# set days since cols as ints\n",
    "customer_profiles_base['days_since_last_order'] = customer_profiles_base['days_since_last_order'].astype('int')\n",
    "customer_profiles_base['days_since_first_order'] = customer_profiles_base['days_since_first_order'].astype('int')"
   ]
  },
  {
   "cell_type": "code",
   "execution_count": 265,
   "metadata": {
    "ExecuteTime": {
     "end_time": "2020-10-11T14:50:08.245237Z",
     "start_time": "2020-10-11T14:50:08.183403Z"
    }
   },
   "outputs": [
    {
     "data": {
      "text/html": [
       "<div>\n",
       "<style scoped>\n",
       "    .dataframe tbody tr th:only-of-type {\n",
       "        vertical-align: middle;\n",
       "    }\n",
       "\n",
       "    .dataframe tbody tr th {\n",
       "        vertical-align: top;\n",
       "    }\n",
       "\n",
       "    .dataframe thead th {\n",
       "        text-align: right;\n",
       "    }\n",
       "</style>\n",
       "<table border=\"1\" class=\"dataframe\">\n",
       "  <thead>\n",
       "    <tr style=\"text-align: right;\">\n",
       "      <th></th>\n",
       "      <th>num_orders</th>\n",
       "      <th>num_order_days</th>\n",
       "      <th>total_num_items</th>\n",
       "      <th>total_price</th>\n",
       "      <th>total_freight</th>\n",
       "      <th>total_order_value</th>\n",
       "      <th>avg_freight_ratio</th>\n",
       "      <th>avg_item_price</th>\n",
       "      <th>avg_order_value</th>\n",
       "    </tr>\n",
       "  </thead>\n",
       "  <tbody>\n",
       "    <tr>\n",
       "      <th>count</th>\n",
       "      <td>72612.000000</td>\n",
       "      <td>72612.000000</td>\n",
       "      <td>72612.000000</td>\n",
       "      <td>72612.000000</td>\n",
       "      <td>72612.000000</td>\n",
       "      <td>72612.000000</td>\n",
       "      <td>72612.000000</td>\n",
       "      <td>72612.000000</td>\n",
       "      <td>72612.000000</td>\n",
       "    </tr>\n",
       "    <tr>\n",
       "      <th>mean</th>\n",
       "      <td>1.027282</td>\n",
       "      <td>1.027282</td>\n",
       "      <td>1.175673</td>\n",
       "      <td>141.172958</td>\n",
       "      <td>23.705928</td>\n",
       "      <td>164.878886</td>\n",
       "      <td>0.208051</td>\n",
       "      <td>137.790730</td>\n",
       "      <td>160.856340</td>\n",
       "    </tr>\n",
       "    <tr>\n",
       "      <th>std</th>\n",
       "      <td>0.186033</td>\n",
       "      <td>0.186033</td>\n",
       "      <td>0.616228</td>\n",
       "      <td>211.995505</td>\n",
       "      <td>23.270513</td>\n",
       "      <td>222.946167</td>\n",
       "      <td>0.124471</td>\n",
       "      <td>207.831256</td>\n",
       "      <td>217.939699</td>\n",
       "    </tr>\n",
       "    <tr>\n",
       "      <th>min</th>\n",
       "      <td>1.000000</td>\n",
       "      <td>1.000000</td>\n",
       "      <td>1.000000</td>\n",
       "      <td>0.850000</td>\n",
       "      <td>0.000000</td>\n",
       "      <td>9.590000</td>\n",
       "      <td>0.000000</td>\n",
       "      <td>0.850000</td>\n",
       "      <td>9.590000</td>\n",
       "    </tr>\n",
       "    <tr>\n",
       "      <th>25%</th>\n",
       "      <td>1.000000</td>\n",
       "      <td>1.000000</td>\n",
       "      <td>1.000000</td>\n",
       "      <td>47.900000</td>\n",
       "      <td>13.880000</td>\n",
       "      <td>63.130000</td>\n",
       "      <td>0.116382</td>\n",
       "      <td>46.990000</td>\n",
       "      <td>62.650000</td>\n",
       "    </tr>\n",
       "    <tr>\n",
       "      <th>50%</th>\n",
       "      <td>1.000000</td>\n",
       "      <td>1.000000</td>\n",
       "      <td>1.000000</td>\n",
       "      <td>89.800000</td>\n",
       "      <td>17.670000</td>\n",
       "      <td>108.200000</td>\n",
       "      <td>0.183256</td>\n",
       "      <td>88.000000</td>\n",
       "      <td>106.500000</td>\n",
       "    </tr>\n",
       "    <tr>\n",
       "      <th>75%</th>\n",
       "      <td>1.000000</td>\n",
       "      <td>1.000000</td>\n",
       "      <td>1.000000</td>\n",
       "      <td>152.000000</td>\n",
       "      <td>25.520000</td>\n",
       "      <td>182.320000</td>\n",
       "      <td>0.274278</td>\n",
       "      <td>149.900000</td>\n",
       "      <td>177.490000</td>\n",
       "    </tr>\n",
       "    <tr>\n",
       "      <th>max</th>\n",
       "      <td>11.000000</td>\n",
       "      <td>11.000000</td>\n",
       "      <td>24.000000</td>\n",
       "      <td>13440.000000</td>\n",
       "      <td>1794.960000</td>\n",
       "      <td>13664.080000</td>\n",
       "      <td>0.955451</td>\n",
       "      <td>13440.000000</td>\n",
       "      <td>13664.080000</td>\n",
       "    </tr>\n",
       "  </tbody>\n",
       "</table>\n",
       "</div>"
      ],
      "text/plain": [
       "         num_orders  num_order_days  total_num_items   total_price  \\\n",
       "count  72612.000000    72612.000000     72612.000000  72612.000000   \n",
       "mean       1.027282        1.027282         1.175673    141.172958   \n",
       "std        0.186033        0.186033         0.616228    211.995505   \n",
       "min        1.000000        1.000000         1.000000      0.850000   \n",
       "25%        1.000000        1.000000         1.000000     47.900000   \n",
       "50%        1.000000        1.000000         1.000000     89.800000   \n",
       "75%        1.000000        1.000000         1.000000    152.000000   \n",
       "max       11.000000       11.000000        24.000000  13440.000000   \n",
       "\n",
       "       total_freight  total_order_value  avg_freight_ratio  avg_item_price  \\\n",
       "count   72612.000000       72612.000000       72612.000000    72612.000000   \n",
       "mean       23.705928         164.878886           0.208051      137.790730   \n",
       "std        23.270513         222.946167           0.124471      207.831256   \n",
       "min         0.000000           9.590000           0.000000        0.850000   \n",
       "25%        13.880000          63.130000           0.116382       46.990000   \n",
       "50%        17.670000         108.200000           0.183256       88.000000   \n",
       "75%        25.520000         182.320000           0.274278      149.900000   \n",
       "max      1794.960000       13664.080000           0.955451    13440.000000   \n",
       "\n",
       "       avg_order_value  \n",
       "count     72612.000000  \n",
       "mean        160.856340  \n",
       "std         217.939699  \n",
       "min           9.590000  \n",
       "25%          62.650000  \n",
       "50%         106.500000  \n",
       "75%         177.490000  \n",
       "max       13664.080000  "
      ]
     },
     "execution_count": 265,
     "metadata": {},
     "output_type": "execute_result"
    }
   ],
   "source": [
    "# summary: customer_profiles_1YR\n",
    "customer_profiles_1YR.describe()"
   ]
  },
  {
   "cell_type": "markdown",
   "metadata": {},
   "source": [
    "## Data Exploration"
   ]
  },
  {
   "cell_type": "code",
   "execution_count": 266,
   "metadata": {
    "ExecuteTime": {
     "end_time": "2020-10-11T14:50:17.817035Z",
     "start_time": "2020-10-11T14:50:17.722289Z"
    }
   },
   "outputs": [],
   "source": [
    "# combine the base and 1YR dataframes\n",
    "df = pd.merge(customer_profiles_base, customer_profiles_1YR, how='left', on='customer_unique_id',suffixes=('','_1YR'))"
   ]
  },
  {
   "cell_type": "code",
   "execution_count": 267,
   "metadata": {
    "ExecuteTime": {
     "end_time": "2020-10-11T14:50:18.354131Z",
     "start_time": "2020-10-11T14:50:18.295258Z"
    }
   },
   "outputs": [
    {
     "data": {
      "text/html": [
       "<div>\n",
       "<style scoped>\n",
       "    .dataframe tbody tr th:only-of-type {\n",
       "        vertical-align: middle;\n",
       "    }\n",
       "\n",
       "    .dataframe tbody tr th {\n",
       "        vertical-align: top;\n",
       "    }\n",
       "\n",
       "    .dataframe thead th {\n",
       "        text-align: right;\n",
       "    }\n",
       "</style>\n",
       "<table border=\"1\" class=\"dataframe\">\n",
       "  <thead>\n",
       "    <tr style=\"text-align: right;\">\n",
       "      <th></th>\n",
       "      <th>customer_id</th>\n",
       "      <th>customer_unique_id</th>\n",
       "      <th>customer_zip_code_prefix</th>\n",
       "      <th>customer_city</th>\n",
       "      <th>customer_state</th>\n",
       "      <th>first_order_date</th>\n",
       "      <th>last_order_date</th>\n",
       "      <th>num_orders</th>\n",
       "      <th>num_order_days</th>\n",
       "      <th>total_num_items</th>\n",
       "      <th>total_price</th>\n",
       "      <th>total_freight</th>\n",
       "      <th>total_order_value</th>\n",
       "      <th>avg_freight_ratio</th>\n",
       "      <th>avg_item_price</th>\n",
       "      <th>avg_order_value</th>\n",
       "      <th>snapshot_date</th>\n",
       "      <th>days_since_last_order</th>\n",
       "      <th>days_since_first_order</th>\n",
       "      <th>customer_id_1YR</th>\n",
       "      <th>customer_zip_code_prefix_1YR</th>\n",
       "      <th>customer_city_1YR</th>\n",
       "      <th>customer_state_1YR</th>\n",
       "      <th>first_order_date_1YR</th>\n",
       "      <th>last_order_date_1YR</th>\n",
       "      <th>num_orders_1YR</th>\n",
       "      <th>num_order_days_1YR</th>\n",
       "      <th>total_num_items_1YR</th>\n",
       "      <th>total_price_1YR</th>\n",
       "      <th>total_freight_1YR</th>\n",
       "      <th>total_order_value_1YR</th>\n",
       "      <th>avg_freight_ratio_1YR</th>\n",
       "      <th>avg_item_price_1YR</th>\n",
       "      <th>avg_order_value_1YR</th>\n",
       "    </tr>\n",
       "  </thead>\n",
       "  <tbody>\n",
       "    <tr>\n",
       "      <th>0</th>\n",
       "      <td>06b8999e2fba1a1fbc88172c00ba8bc7</td>\n",
       "      <td>861eff4711a542e4b93843c6dd7febb0</td>\n",
       "      <td>14409</td>\n",
       "      <td>franca</td>\n",
       "      <td>SP</td>\n",
       "      <td>2017-05-16 15:22:12</td>\n",
       "      <td>2017-05-16 15:22:12</td>\n",
       "      <td>1</td>\n",
       "      <td>1</td>\n",
       "      <td>1</td>\n",
       "      <td>124.99</td>\n",
       "      <td>21.88</td>\n",
       "      <td>146.87</td>\n",
       "      <td>0.148975</td>\n",
       "      <td>124.99</td>\n",
       "      <td>146.87</td>\n",
       "      <td>2017-08-29 23:59:59</td>\n",
       "      <td>105</td>\n",
       "      <td>105</td>\n",
       "      <td>NaN</td>\n",
       "      <td>NaN</td>\n",
       "      <td>NaN</td>\n",
       "      <td>NaN</td>\n",
       "      <td>NaT</td>\n",
       "      <td>NaT</td>\n",
       "      <td>NaN</td>\n",
       "      <td>NaN</td>\n",
       "      <td>NaN</td>\n",
       "      <td>NaN</td>\n",
       "      <td>NaN</td>\n",
       "      <td>NaN</td>\n",
       "      <td>NaN</td>\n",
       "      <td>NaN</td>\n",
       "      <td>NaN</td>\n",
       "    </tr>\n",
       "    <tr>\n",
       "      <th>1</th>\n",
       "      <td>9b8ce803689b3562defaad4613ef426f</td>\n",
       "      <td>7f3a72e8f988c6e735ba118d54f47458</td>\n",
       "      <td>5416</td>\n",
       "      <td>sao paulo</td>\n",
       "      <td>SP</td>\n",
       "      <td>2017-05-13 11:55:16</td>\n",
       "      <td>2017-05-13 11:55:16</td>\n",
       "      <td>1</td>\n",
       "      <td>1</td>\n",
       "      <td>1</td>\n",
       "      <td>89.90</td>\n",
       "      <td>12.13</td>\n",
       "      <td>102.03</td>\n",
       "      <td>0.118887</td>\n",
       "      <td>89.90</td>\n",
       "      <td>102.03</td>\n",
       "      <td>2017-08-29 23:59:59</td>\n",
       "      <td>108</td>\n",
       "      <td>108</td>\n",
       "      <td>NaN</td>\n",
       "      <td>NaN</td>\n",
       "      <td>NaN</td>\n",
       "      <td>NaN</td>\n",
       "      <td>NaT</td>\n",
       "      <td>NaT</td>\n",
       "      <td>NaN</td>\n",
       "      <td>NaN</td>\n",
       "      <td>NaN</td>\n",
       "      <td>NaN</td>\n",
       "      <td>NaN</td>\n",
       "      <td>NaN</td>\n",
       "      <td>NaN</td>\n",
       "      <td>NaN</td>\n",
       "      <td>NaN</td>\n",
       "    </tr>\n",
       "    <tr>\n",
       "      <th>2</th>\n",
       "      <td>154c4ded6991bdfa3cd249d11abf4130</td>\n",
       "      <td>e607ede0e63436308660236f5a52da5e</td>\n",
       "      <td>88034</td>\n",
       "      <td>florianopolis</td>\n",
       "      <td>SC</td>\n",
       "      <td>2017-08-13 10:24:04</td>\n",
       "      <td>2017-08-13 10:24:04</td>\n",
       "      <td>1</td>\n",
       "      <td>1</td>\n",
       "      <td>1</td>\n",
       "      <td>105.00</td>\n",
       "      <td>18.00</td>\n",
       "      <td>123.00</td>\n",
       "      <td>0.146341</td>\n",
       "      <td>105.00</td>\n",
       "      <td>123.00</td>\n",
       "      <td>2017-08-29 23:59:59</td>\n",
       "      <td>16</td>\n",
       "      <td>16</td>\n",
       "      <td>NaN</td>\n",
       "      <td>NaN</td>\n",
       "      <td>NaN</td>\n",
       "      <td>NaN</td>\n",
       "      <td>NaT</td>\n",
       "      <td>NaT</td>\n",
       "      <td>NaN</td>\n",
       "      <td>NaN</td>\n",
       "      <td>NaN</td>\n",
       "      <td>NaN</td>\n",
       "      <td>NaN</td>\n",
       "      <td>NaN</td>\n",
       "      <td>NaN</td>\n",
       "      <td>NaN</td>\n",
       "      <td>NaN</td>\n",
       "    </tr>\n",
       "    <tr>\n",
       "      <th>3</th>\n",
       "      <td>237098a64674ae89babdc426746260fc</td>\n",
       "      <td>4390ddbb6276a66ff1736a6710205dca</td>\n",
       "      <td>82820</td>\n",
       "      <td>curitiba</td>\n",
       "      <td>PR</td>\n",
       "      <td>2017-04-14 11:35:23</td>\n",
       "      <td>2017-04-14 11:35:23</td>\n",
       "      <td>1</td>\n",
       "      <td>1</td>\n",
       "      <td>1</td>\n",
       "      <td>79.90</td>\n",
       "      <td>14.73</td>\n",
       "      <td>94.63</td>\n",
       "      <td>0.155659</td>\n",
       "      <td>79.90</td>\n",
       "      <td>94.63</td>\n",
       "      <td>2017-08-29 23:59:59</td>\n",
       "      <td>137</td>\n",
       "      <td>137</td>\n",
       "      <td>NaN</td>\n",
       "      <td>NaN</td>\n",
       "      <td>NaN</td>\n",
       "      <td>NaN</td>\n",
       "      <td>NaT</td>\n",
       "      <td>NaT</td>\n",
       "      <td>NaN</td>\n",
       "      <td>NaN</td>\n",
       "      <td>NaN</td>\n",
       "      <td>NaN</td>\n",
       "      <td>NaN</td>\n",
       "      <td>NaN</td>\n",
       "      <td>NaN</td>\n",
       "      <td>NaN</td>\n",
       "      <td>NaN</td>\n",
       "    </tr>\n",
       "    <tr>\n",
       "      <th>4</th>\n",
       "      <td>6e359a57a91f84095cc64e1b351aef8c</td>\n",
       "      <td>2e6a42a9b5cbb0da62988694f18ee295</td>\n",
       "      <td>4571</td>\n",
       "      <td>sao paulo</td>\n",
       "      <td>SP</td>\n",
       "      <td>2017-05-15 18:10:18</td>\n",
       "      <td>2017-05-15 18:10:18</td>\n",
       "      <td>1</td>\n",
       "      <td>1</td>\n",
       "      <td>1</td>\n",
       "      <td>29.99</td>\n",
       "      <td>17.60</td>\n",
       "      <td>47.59</td>\n",
       "      <td>0.369826</td>\n",
       "      <td>29.99</td>\n",
       "      <td>47.59</td>\n",
       "      <td>2017-08-29 23:59:59</td>\n",
       "      <td>106</td>\n",
       "      <td>106</td>\n",
       "      <td>NaN</td>\n",
       "      <td>NaN</td>\n",
       "      <td>NaN</td>\n",
       "      <td>NaN</td>\n",
       "      <td>NaT</td>\n",
       "      <td>NaT</td>\n",
       "      <td>NaN</td>\n",
       "      <td>NaN</td>\n",
       "      <td>NaN</td>\n",
       "      <td>NaN</td>\n",
       "      <td>NaN</td>\n",
       "      <td>NaN</td>\n",
       "      <td>NaN</td>\n",
       "      <td>NaN</td>\n",
       "      <td>NaN</td>\n",
       "    </tr>\n",
       "  </tbody>\n",
       "</table>\n",
       "</div>"
      ],
      "text/plain": [
       "                        customer_id                customer_unique_id  \\\n",
       "0  06b8999e2fba1a1fbc88172c00ba8bc7  861eff4711a542e4b93843c6dd7febb0   \n",
       "1  9b8ce803689b3562defaad4613ef426f  7f3a72e8f988c6e735ba118d54f47458   \n",
       "2  154c4ded6991bdfa3cd249d11abf4130  e607ede0e63436308660236f5a52da5e   \n",
       "3  237098a64674ae89babdc426746260fc  4390ddbb6276a66ff1736a6710205dca   \n",
       "4  6e359a57a91f84095cc64e1b351aef8c  2e6a42a9b5cbb0da62988694f18ee295   \n",
       "\n",
       "  customer_zip_code_prefix  customer_city customer_state    first_order_date  \\\n",
       "0                    14409         franca             SP 2017-05-16 15:22:12   \n",
       "1                     5416      sao paulo             SP 2017-05-13 11:55:16   \n",
       "2                    88034  florianopolis             SC 2017-08-13 10:24:04   \n",
       "3                    82820       curitiba             PR 2017-04-14 11:35:23   \n",
       "4                     4571      sao paulo             SP 2017-05-15 18:10:18   \n",
       "\n",
       "      last_order_date  num_orders  num_order_days  total_num_items  \\\n",
       "0 2017-05-16 15:22:12           1               1                1   \n",
       "1 2017-05-13 11:55:16           1               1                1   \n",
       "2 2017-08-13 10:24:04           1               1                1   \n",
       "3 2017-04-14 11:35:23           1               1                1   \n",
       "4 2017-05-15 18:10:18           1               1                1   \n",
       "\n",
       "   total_price  total_freight  total_order_value  avg_freight_ratio  \\\n",
       "0       124.99          21.88             146.87           0.148975   \n",
       "1        89.90          12.13             102.03           0.118887   \n",
       "2       105.00          18.00             123.00           0.146341   \n",
       "3        79.90          14.73              94.63           0.155659   \n",
       "4        29.99          17.60              47.59           0.369826   \n",
       "\n",
       "   avg_item_price  avg_order_value       snapshot_date  days_since_last_order  \\\n",
       "0          124.99           146.87 2017-08-29 23:59:59                    105   \n",
       "1           89.90           102.03 2017-08-29 23:59:59                    108   \n",
       "2          105.00           123.00 2017-08-29 23:59:59                     16   \n",
       "3           79.90            94.63 2017-08-29 23:59:59                    137   \n",
       "4           29.99            47.59 2017-08-29 23:59:59                    106   \n",
       "\n",
       "   days_since_first_order customer_id_1YR customer_zip_code_prefix_1YR  \\\n",
       "0                     105             NaN                          NaN   \n",
       "1                     108             NaN                          NaN   \n",
       "2                      16             NaN                          NaN   \n",
       "3                     137             NaN                          NaN   \n",
       "4                     106             NaN                          NaN   \n",
       "\n",
       "  customer_city_1YR customer_state_1YR first_order_date_1YR  \\\n",
       "0               NaN                NaN                  NaT   \n",
       "1               NaN                NaN                  NaT   \n",
       "2               NaN                NaN                  NaT   \n",
       "3               NaN                NaN                  NaT   \n",
       "4               NaN                NaN                  NaT   \n",
       "\n",
       "  last_order_date_1YR  num_orders_1YR  num_order_days_1YR  \\\n",
       "0                 NaT             NaN                 NaN   \n",
       "1                 NaT             NaN                 NaN   \n",
       "2                 NaT             NaN                 NaN   \n",
       "3                 NaT             NaN                 NaN   \n",
       "4                 NaT             NaN                 NaN   \n",
       "\n",
       "   total_num_items_1YR  total_price_1YR  total_freight_1YR  \\\n",
       "0                  NaN              NaN                NaN   \n",
       "1                  NaN              NaN                NaN   \n",
       "2                  NaN              NaN                NaN   \n",
       "3                  NaN              NaN                NaN   \n",
       "4                  NaN              NaN                NaN   \n",
       "\n",
       "   total_order_value_1YR  avg_freight_ratio_1YR  avg_item_price_1YR  \\\n",
       "0                    NaN                    NaN                 NaN   \n",
       "1                    NaN                    NaN                 NaN   \n",
       "2                    NaN                    NaN                 NaN   \n",
       "3                    NaN                    NaN                 NaN   \n",
       "4                    NaN                    NaN                 NaN   \n",
       "\n",
       "   avg_order_value_1YR  \n",
       "0                  NaN  \n",
       "1                  NaN  \n",
       "2                  NaN  \n",
       "3                  NaN  \n",
       "4                  NaN  "
      ]
     },
     "execution_count": 267,
     "metadata": {},
     "output_type": "execute_result"
    }
   ],
   "source": [
    "df.head()"
   ]
  },
  {
   "cell_type": "code",
   "execution_count": 268,
   "metadata": {
    "ExecuteTime": {
     "end_time": "2020-10-11T14:50:21.228082Z",
     "start_time": "2020-10-11T14:50:21.217110Z"
    }
   },
   "outputs": [
    {
     "data": {
      "text/plain": [
       "Index(['customer_id', 'customer_unique_id', 'customer_zip_code_prefix',\n",
       "       'customer_city', 'customer_state', 'first_order_date',\n",
       "       'last_order_date', 'num_orders', 'num_order_days', 'total_num_items',\n",
       "       'total_price', 'total_freight', 'total_order_value',\n",
       "       'avg_freight_ratio', 'avg_item_price', 'avg_order_value',\n",
       "       'snapshot_date', 'days_since_last_order', 'days_since_first_order',\n",
       "       'customer_id_1YR', 'customer_zip_code_prefix_1YR', 'customer_city_1YR',\n",
       "       'customer_state_1YR', 'first_order_date_1YR', 'last_order_date_1YR',\n",
       "       'num_orders_1YR', 'num_order_days_1YR', 'total_num_items_1YR',\n",
       "       'total_price_1YR', 'total_freight_1YR', 'total_order_value_1YR',\n",
       "       'avg_freight_ratio_1YR', 'avg_item_price_1YR', 'avg_order_value_1YR'],\n",
       "      dtype='object')"
      ]
     },
     "execution_count": 268,
     "metadata": {},
     "output_type": "execute_result"
    }
   ],
   "source": [
    "df.columns"
   ]
  },
  {
   "cell_type": "code",
   "execution_count": 269,
   "metadata": {
    "ExecuteTime": {
     "end_time": "2020-10-11T14:50:26.951482Z",
     "start_time": "2020-10-11T14:50:26.917543Z"
    }
   },
   "outputs": [],
   "source": [
    "df.drop(columns=['customer_id_1YR', 'customer_zip_code_prefix_1YR', 'customer_city_1YR',\\\n",
    "       'customer_state_1YR', 'first_order_date_1YR', 'last_order_date_1YR',\\\n",
    "       'num_orders_1YR', 'num_order_days_1YR', 'total_num_items_1YR',\\\n",
    "       'total_price_1YR', 'total_freight_1YR',\\\n",
    "       'avg_freight_ratio_1YR', 'avg_item_price_1YR', 'avg_order_value_1YR'], inplace=True)"
   ]
  },
  {
   "cell_type": "code",
   "execution_count": 270,
   "metadata": {
    "ExecuteTime": {
     "end_time": "2020-10-11T14:50:28.505176Z",
     "start_time": "2020-10-11T14:50:28.493209Z"
    }
   },
   "outputs": [
    {
     "data": {
      "text/plain": [
       "Index(['customer_id', 'customer_unique_id', 'customer_zip_code_prefix',\n",
       "       'customer_city', 'customer_state', 'first_order_date',\n",
       "       'last_order_date', 'num_orders', 'num_order_days', 'total_num_items',\n",
       "       'total_price', 'total_freight', 'total_order_value',\n",
       "       'avg_freight_ratio', 'avg_item_price', 'avg_order_value',\n",
       "       'snapshot_date', 'days_since_last_order', 'days_since_first_order',\n",
       "       'total_order_value_1YR'],\n",
       "      dtype='object')"
      ]
     },
     "execution_count": 270,
     "metadata": {},
     "output_type": "execute_result"
    }
   ],
   "source": [
    "df.columns"
   ]
  },
  {
   "cell_type": "code",
   "execution_count": 272,
   "metadata": {
    "ExecuteTime": {
     "end_time": "2020-10-11T14:51:48.859977Z",
     "start_time": "2020-10-11T14:51:47.899265Z"
    }
   },
   "outputs": [
    {
     "data": {
      "text/plain": [
       "<matplotlib.axes._subplots.AxesSubplot at 0x28d17f66848>"
      ]
     },
     "execution_count": 272,
     "metadata": {},
     "output_type": "execute_result"
    },
    {
     "data": {
      "image/png": "[encoded data removed]",
      "text/plain": [
       "<Figure size 720x720 with 2 Axes>"
      ]
     },
     "metadata": {},
     "output_type": "display_data"
    }
   ],
   "source": [
    "fig, ax = plt.subplots(figsize=(10,10))         # Sample figsize in inches\n",
    "sns.heatmap(df.corr(),cmap='coolwarm',vmin=-1, vmax=1, annot=True, ax=ax)"
   ]
  },
  {
   "cell_type": "code",
   "execution_count": null,
   "metadata": {},
   "outputs": [],
   "source": []
  }
 ],
 "metadata": {
  "kernelspec": {
   "display_name": "Python 3",
   "language": "python",
   "name": "python3"
  },
  "language_info": {
   "codemirror_mode": {
    "name": "ipython",
    "version": 3
   },
   "file_extension": ".py",
   "mimetype": "text/x-python",
   "name": "python",
   "nbconvert_exporter": "python",
   "pygments_lexer": "ipython3",
   "version": "3.7.4"
  },
  "toc": {
   "base_numbering": 1,
   "nav_menu": {},
   "number_sections": true,
   "sideBar": true,
   "skip_h1_title": false,
   "title_cell": "Table of Contents",
   "title_sidebar": "Contents",
   "toc_cell": false,
   "toc_position": {},
   "toc_section_display": true,
   "toc_window_display": false
  }
 },
 "nbformat": 4,
 "nbformat_minor": 2
}
